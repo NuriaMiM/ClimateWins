{
 "cells": [
  {
   "cell_type": "markdown",
   "id": "0ff020c5-c1ce-4ae3-8c63-b86faf89f757",
   "metadata": {},
   "source": [
    "# Exercise 2.2: Complex Machine Learning Models and Keras Part 1"
   ]
  },
  {
   "cell_type": "markdown",
   "id": "e5ededab-3233-4d5b-8b21-b36ed265697b",
   "metadata": {
    "jp-MarkdownHeadingCollapsed": true
   },
   "source": [
    "### 1. Import Libraries"
   ]
  },
  {
   "cell_type": "code",
   "execution_count": 8,
   "id": "176244be-9486-47ea-bbd0-6291385b2551",
   "metadata": {},
   "outputs": [],
   "source": [
    "import pandas as pd\n",
    "import numpy as np\n",
    "import seaborn as sns\n",
    "import os\n",
    "import operator\n",
    "import matplotlib.pyplot as plt\n",
    "from sklearn.model_selection import train_test_split\n",
    "from sklearn.preprocessing import LabelEncoder\n",
    "import tensorflow as tf\n",
    "from numpy import reshape\n",
    "from keras.models import Sequential\n",
    "from keras.layers import Conv1D, Conv2D, Dense, BatchNormalization, Flatten, MaxPooling1D\n",
    "from keras.layers import Dense, Dropout\n",
    "from keras.utils import to_categorical"
   ]
  },
  {
   "cell_type": "markdown",
   "id": "98ecf101-8756-449f-847b-1be2ed99784f",
   "metadata": {
    "jp-MarkdownHeadingCollapsed": true
   },
   "source": [
    "### 2. Import and Clean Data"
   ]
  },
  {
   "cell_type": "code",
   "execution_count": 11,
   "id": "982677f2-9bb4-4b8a-be97-e644c5e12a14",
   "metadata": {},
   "outputs": [],
   "source": [
    "path = r'C:\\Users\\Nuria Miquel\\Desktop\\nuria\\Machine Learning'\n",
    "df = pd.read_csv(os.path.join(path, 'Data', 'weather_data.csv'), index_col = False)\n",
    "pleasant = pd.read_csv(os.path.join(path, 'Data', 'Dataset-Answers-Weather_Prediction_Pleasant_Weather.csv'), index_col = False)"
   ]
  },
  {
   "cell_type": "code",
   "execution_count": 12,
   "id": "8c161c4e-a4fa-4460-ac03-64d994ef73b5",
   "metadata": {},
   "outputs": [
    {
     "data": {
      "text/html": [
       "<div>\n",
       "<style scoped>\n",
       "    .dataframe tbody tr th:only-of-type {\n",
       "        vertical-align: middle;\n",
       "    }\n",
       "\n",
       "    .dataframe tbody tr th {\n",
       "        vertical-align: top;\n",
       "    }\n",
       "\n",
       "    .dataframe thead th {\n",
       "        text-align: right;\n",
       "    }\n",
       "</style>\n",
       "<table border=\"1\" class=\"dataframe\">\n",
       "  <thead>\n",
       "    <tr style=\"text-align: right;\">\n",
       "      <th></th>\n",
       "      <th>DATE</th>\n",
       "      <th>MONTH</th>\n",
       "      <th>BASEL_cloud_cover</th>\n",
       "      <th>BASEL_wind_speed</th>\n",
       "      <th>BASEL_humidity</th>\n",
       "      <th>BASEL_pressure</th>\n",
       "      <th>BASEL_global_radiation</th>\n",
       "      <th>BASEL_precipitation</th>\n",
       "      <th>BASEL_snow_depth</th>\n",
       "      <th>BASEL_sunshine</th>\n",
       "      <th>...</th>\n",
       "      <th>VALENTIA_cloud_cover</th>\n",
       "      <th>VALENTIA_humidity</th>\n",
       "      <th>VALENTIA_pressure</th>\n",
       "      <th>VALENTIA_global_radiation</th>\n",
       "      <th>VALENTIA_precipitation</th>\n",
       "      <th>VALENTIA_snow_depth</th>\n",
       "      <th>VALENTIA_sunshine</th>\n",
       "      <th>VALENTIA_temp_mean</th>\n",
       "      <th>VALENTIA_temp_min</th>\n",
       "      <th>VALENTIA_temp_max</th>\n",
       "    </tr>\n",
       "  </thead>\n",
       "  <tbody>\n",
       "    <tr>\n",
       "      <th>0</th>\n",
       "      <td>19600101</td>\n",
       "      <td>1</td>\n",
       "      <td>7</td>\n",
       "      <td>2.1</td>\n",
       "      <td>0.85</td>\n",
       "      <td>1.018</td>\n",
       "      <td>0.32</td>\n",
       "      <td>0.09</td>\n",
       "      <td>0</td>\n",
       "      <td>0.7</td>\n",
       "      <td>...</td>\n",
       "      <td>5</td>\n",
       "      <td>0.88</td>\n",
       "      <td>1.0003</td>\n",
       "      <td>0.45</td>\n",
       "      <td>0.34</td>\n",
       "      <td>0</td>\n",
       "      <td>4.7</td>\n",
       "      <td>8.5</td>\n",
       "      <td>6.0</td>\n",
       "      <td>10.9</td>\n",
       "    </tr>\n",
       "    <tr>\n",
       "      <th>1</th>\n",
       "      <td>19600102</td>\n",
       "      <td>1</td>\n",
       "      <td>6</td>\n",
       "      <td>2.1</td>\n",
       "      <td>0.84</td>\n",
       "      <td>1.018</td>\n",
       "      <td>0.36</td>\n",
       "      <td>1.05</td>\n",
       "      <td>0</td>\n",
       "      <td>1.1</td>\n",
       "      <td>...</td>\n",
       "      <td>7</td>\n",
       "      <td>0.91</td>\n",
       "      <td>1.0007</td>\n",
       "      <td>0.25</td>\n",
       "      <td>0.84</td>\n",
       "      <td>0</td>\n",
       "      <td>0.7</td>\n",
       "      <td>8.9</td>\n",
       "      <td>5.6</td>\n",
       "      <td>12.1</td>\n",
       "    </tr>\n",
       "    <tr>\n",
       "      <th>2</th>\n",
       "      <td>19600103</td>\n",
       "      <td>1</td>\n",
       "      <td>8</td>\n",
       "      <td>2.1</td>\n",
       "      <td>0.90</td>\n",
       "      <td>1.018</td>\n",
       "      <td>0.18</td>\n",
       "      <td>0.30</td>\n",
       "      <td>0</td>\n",
       "      <td>0.0</td>\n",
       "      <td>...</td>\n",
       "      <td>7</td>\n",
       "      <td>0.91</td>\n",
       "      <td>1.0096</td>\n",
       "      <td>0.17</td>\n",
       "      <td>0.08</td>\n",
       "      <td>0</td>\n",
       "      <td>0.1</td>\n",
       "      <td>10.5</td>\n",
       "      <td>8.1</td>\n",
       "      <td>12.9</td>\n",
       "    </tr>\n",
       "    <tr>\n",
       "      <th>3</th>\n",
       "      <td>19600104</td>\n",
       "      <td>1</td>\n",
       "      <td>3</td>\n",
       "      <td>2.1</td>\n",
       "      <td>0.92</td>\n",
       "      <td>1.018</td>\n",
       "      <td>0.58</td>\n",
       "      <td>0.00</td>\n",
       "      <td>0</td>\n",
       "      <td>4.1</td>\n",
       "      <td>...</td>\n",
       "      <td>7</td>\n",
       "      <td>0.86</td>\n",
       "      <td>1.0184</td>\n",
       "      <td>0.13</td>\n",
       "      <td>0.98</td>\n",
       "      <td>0</td>\n",
       "      <td>0.0</td>\n",
       "      <td>7.4</td>\n",
       "      <td>7.3</td>\n",
       "      <td>10.6</td>\n",
       "    </tr>\n",
       "    <tr>\n",
       "      <th>4</th>\n",
       "      <td>19600105</td>\n",
       "      <td>1</td>\n",
       "      <td>6</td>\n",
       "      <td>2.1</td>\n",
       "      <td>0.95</td>\n",
       "      <td>1.018</td>\n",
       "      <td>0.65</td>\n",
       "      <td>0.14</td>\n",
       "      <td>0</td>\n",
       "      <td>5.4</td>\n",
       "      <td>...</td>\n",
       "      <td>3</td>\n",
       "      <td>0.80</td>\n",
       "      <td>1.0328</td>\n",
       "      <td>0.46</td>\n",
       "      <td>0.00</td>\n",
       "      <td>0</td>\n",
       "      <td>5.7</td>\n",
       "      <td>5.7</td>\n",
       "      <td>3.0</td>\n",
       "      <td>8.4</td>\n",
       "    </tr>\n",
       "  </tbody>\n",
       "</table>\n",
       "<p>5 rows × 170 columns</p>\n",
       "</div>"
      ],
      "text/plain": [
       "       DATE  MONTH  BASEL_cloud_cover  BASEL_wind_speed  BASEL_humidity  \\\n",
       "0  19600101      1                  7               2.1            0.85   \n",
       "1  19600102      1                  6               2.1            0.84   \n",
       "2  19600103      1                  8               2.1            0.90   \n",
       "3  19600104      1                  3               2.1            0.92   \n",
       "4  19600105      1                  6               2.1            0.95   \n",
       "\n",
       "   BASEL_pressure  BASEL_global_radiation  BASEL_precipitation  \\\n",
       "0           1.018                    0.32                 0.09   \n",
       "1           1.018                    0.36                 1.05   \n",
       "2           1.018                    0.18                 0.30   \n",
       "3           1.018                    0.58                 0.00   \n",
       "4           1.018                    0.65                 0.14   \n",
       "\n",
       "   BASEL_snow_depth  BASEL_sunshine  ...  VALENTIA_cloud_cover  \\\n",
       "0                 0             0.7  ...                     5   \n",
       "1                 0             1.1  ...                     7   \n",
       "2                 0             0.0  ...                     7   \n",
       "3                 0             4.1  ...                     7   \n",
       "4                 0             5.4  ...                     3   \n",
       "\n",
       "   VALENTIA_humidity  VALENTIA_pressure  VALENTIA_global_radiation  \\\n",
       "0               0.88             1.0003                       0.45   \n",
       "1               0.91             1.0007                       0.25   \n",
       "2               0.91             1.0096                       0.17   \n",
       "3               0.86             1.0184                       0.13   \n",
       "4               0.80             1.0328                       0.46   \n",
       "\n",
       "   VALENTIA_precipitation  VALENTIA_snow_depth  VALENTIA_sunshine  \\\n",
       "0                    0.34                    0                4.7   \n",
       "1                    0.84                    0                0.7   \n",
       "2                    0.08                    0                0.1   \n",
       "3                    0.98                    0                0.0   \n",
       "4                    0.00                    0                5.7   \n",
       "\n",
       "   VALENTIA_temp_mean  VALENTIA_temp_min  VALENTIA_temp_max  \n",
       "0                 8.5                6.0               10.9  \n",
       "1                 8.9                5.6               12.1  \n",
       "2                10.5                8.1               12.9  \n",
       "3                 7.4                7.3               10.6  \n",
       "4                 5.7                3.0                8.4  \n",
       "\n",
       "[5 rows x 170 columns]"
      ]
     },
     "execution_count": 12,
     "metadata": {},
     "output_type": "execute_result"
    }
   ],
   "source": [
    "df.head()"
   ]
  },
  {
   "cell_type": "code",
   "execution_count": 13,
   "id": "8d2a6e70-7648-4c24-b4ad-cbba298f995b",
   "metadata": {},
   "outputs": [],
   "source": [
    "df = df.drop(['DATE', 'MONTH', 'GDANSK_cloud_cover', 'GDANSK_humidity', 'GDANSK_precipitation', 'GDANSK_snow_depth', 'GDANSK_temp_mean', 'GDANSK_temp_min', 'GDANSK_temp_max',\n",
    "                        'ROMA_cloud_cover', 'ROMA_wind_speed', 'ROMA_humidity', 'ROMA_pressure', 'ROMA_sunshine', 'ROMA_temp_mean',\n",
    "                        'TOURS_wind_speed', 'TOURS_humidity', 'TOURS_pressure', 'TOURS_global_radiation', 'TOURS_precipitation', 'TOURS_temp_mean', 'TOURS_temp_min', 'TOURS_temp_max'], axis=1)"
   ]
  },
  {
   "cell_type": "code",
   "execution_count": 14,
   "id": "b0411ef3-ca91-456b-b686-894fed9809bd",
   "metadata": {},
   "outputs": [
    {
     "data": {
      "text/html": [
       "<div>\n",
       "<style scoped>\n",
       "    .dataframe tbody tr th:only-of-type {\n",
       "        vertical-align: middle;\n",
       "    }\n",
       "\n",
       "    .dataframe tbody tr th {\n",
       "        vertical-align: top;\n",
       "    }\n",
       "\n",
       "    .dataframe thead th {\n",
       "        text-align: right;\n",
       "    }\n",
       "</style>\n",
       "<table border=\"1\" class=\"dataframe\">\n",
       "  <thead>\n",
       "    <tr style=\"text-align: right;\">\n",
       "      <th></th>\n",
       "      <th>BASEL_cloud_cover</th>\n",
       "      <th>BASEL_wind_speed</th>\n",
       "      <th>BASEL_humidity</th>\n",
       "      <th>BASEL_pressure</th>\n",
       "      <th>BASEL_global_radiation</th>\n",
       "      <th>BASEL_precipitation</th>\n",
       "      <th>BASEL_snow_depth</th>\n",
       "      <th>BASEL_sunshine</th>\n",
       "      <th>BASEL_temp_mean</th>\n",
       "      <th>BASEL_temp_min</th>\n",
       "      <th>...</th>\n",
       "      <th>VALENTIA_cloud_cover</th>\n",
       "      <th>VALENTIA_humidity</th>\n",
       "      <th>VALENTIA_pressure</th>\n",
       "      <th>VALENTIA_global_radiation</th>\n",
       "      <th>VALENTIA_precipitation</th>\n",
       "      <th>VALENTIA_snow_depth</th>\n",
       "      <th>VALENTIA_sunshine</th>\n",
       "      <th>VALENTIA_temp_mean</th>\n",
       "      <th>VALENTIA_temp_min</th>\n",
       "      <th>VALENTIA_temp_max</th>\n",
       "    </tr>\n",
       "  </thead>\n",
       "  <tbody>\n",
       "    <tr>\n",
       "      <th>0</th>\n",
       "      <td>7</td>\n",
       "      <td>2.1</td>\n",
       "      <td>0.85</td>\n",
       "      <td>1.018</td>\n",
       "      <td>0.32</td>\n",
       "      <td>0.09</td>\n",
       "      <td>0</td>\n",
       "      <td>0.7</td>\n",
       "      <td>6.5</td>\n",
       "      <td>0.8</td>\n",
       "      <td>...</td>\n",
       "      <td>5</td>\n",
       "      <td>0.88</td>\n",
       "      <td>1.0003</td>\n",
       "      <td>0.45</td>\n",
       "      <td>0.34</td>\n",
       "      <td>0</td>\n",
       "      <td>4.7</td>\n",
       "      <td>8.5</td>\n",
       "      <td>6.0</td>\n",
       "      <td>10.9</td>\n",
       "    </tr>\n",
       "    <tr>\n",
       "      <th>1</th>\n",
       "      <td>6</td>\n",
       "      <td>2.1</td>\n",
       "      <td>0.84</td>\n",
       "      <td>1.018</td>\n",
       "      <td>0.36</td>\n",
       "      <td>1.05</td>\n",
       "      <td>0</td>\n",
       "      <td>1.1</td>\n",
       "      <td>6.1</td>\n",
       "      <td>3.3</td>\n",
       "      <td>...</td>\n",
       "      <td>7</td>\n",
       "      <td>0.91</td>\n",
       "      <td>1.0007</td>\n",
       "      <td>0.25</td>\n",
       "      <td>0.84</td>\n",
       "      <td>0</td>\n",
       "      <td>0.7</td>\n",
       "      <td>8.9</td>\n",
       "      <td>5.6</td>\n",
       "      <td>12.1</td>\n",
       "    </tr>\n",
       "    <tr>\n",
       "      <th>2</th>\n",
       "      <td>8</td>\n",
       "      <td>2.1</td>\n",
       "      <td>0.90</td>\n",
       "      <td>1.018</td>\n",
       "      <td>0.18</td>\n",
       "      <td>0.30</td>\n",
       "      <td>0</td>\n",
       "      <td>0.0</td>\n",
       "      <td>8.5</td>\n",
       "      <td>5.1</td>\n",
       "      <td>...</td>\n",
       "      <td>7</td>\n",
       "      <td>0.91</td>\n",
       "      <td>1.0096</td>\n",
       "      <td>0.17</td>\n",
       "      <td>0.08</td>\n",
       "      <td>0</td>\n",
       "      <td>0.1</td>\n",
       "      <td>10.5</td>\n",
       "      <td>8.1</td>\n",
       "      <td>12.9</td>\n",
       "    </tr>\n",
       "    <tr>\n",
       "      <th>3</th>\n",
       "      <td>3</td>\n",
       "      <td>2.1</td>\n",
       "      <td>0.92</td>\n",
       "      <td>1.018</td>\n",
       "      <td>0.58</td>\n",
       "      <td>0.00</td>\n",
       "      <td>0</td>\n",
       "      <td>4.1</td>\n",
       "      <td>6.3</td>\n",
       "      <td>3.8</td>\n",
       "      <td>...</td>\n",
       "      <td>7</td>\n",
       "      <td>0.86</td>\n",
       "      <td>1.0184</td>\n",
       "      <td>0.13</td>\n",
       "      <td>0.98</td>\n",
       "      <td>0</td>\n",
       "      <td>0.0</td>\n",
       "      <td>7.4</td>\n",
       "      <td>7.3</td>\n",
       "      <td>10.6</td>\n",
       "    </tr>\n",
       "    <tr>\n",
       "      <th>4</th>\n",
       "      <td>6</td>\n",
       "      <td>2.1</td>\n",
       "      <td>0.95</td>\n",
       "      <td>1.018</td>\n",
       "      <td>0.65</td>\n",
       "      <td>0.14</td>\n",
       "      <td>0</td>\n",
       "      <td>5.4</td>\n",
       "      <td>3.0</td>\n",
       "      <td>-0.7</td>\n",
       "      <td>...</td>\n",
       "      <td>3</td>\n",
       "      <td>0.80</td>\n",
       "      <td>1.0328</td>\n",
       "      <td>0.46</td>\n",
       "      <td>0.00</td>\n",
       "      <td>0</td>\n",
       "      <td>5.7</td>\n",
       "      <td>5.7</td>\n",
       "      <td>3.0</td>\n",
       "      <td>8.4</td>\n",
       "    </tr>\n",
       "  </tbody>\n",
       "</table>\n",
       "<p>5 rows × 147 columns</p>\n",
       "</div>"
      ],
      "text/plain": [
       "   BASEL_cloud_cover  BASEL_wind_speed  BASEL_humidity  BASEL_pressure  \\\n",
       "0                  7               2.1            0.85           1.018   \n",
       "1                  6               2.1            0.84           1.018   \n",
       "2                  8               2.1            0.90           1.018   \n",
       "3                  3               2.1            0.92           1.018   \n",
       "4                  6               2.1            0.95           1.018   \n",
       "\n",
       "   BASEL_global_radiation  BASEL_precipitation  BASEL_snow_depth  \\\n",
       "0                    0.32                 0.09                 0   \n",
       "1                    0.36                 1.05                 0   \n",
       "2                    0.18                 0.30                 0   \n",
       "3                    0.58                 0.00                 0   \n",
       "4                    0.65                 0.14                 0   \n",
       "\n",
       "   BASEL_sunshine  BASEL_temp_mean  BASEL_temp_min  ...  VALENTIA_cloud_cover  \\\n",
       "0             0.7              6.5             0.8  ...                     5   \n",
       "1             1.1              6.1             3.3  ...                     7   \n",
       "2             0.0              8.5             5.1  ...                     7   \n",
       "3             4.1              6.3             3.8  ...                     7   \n",
       "4             5.4              3.0            -0.7  ...                     3   \n",
       "\n",
       "   VALENTIA_humidity  VALENTIA_pressure  VALENTIA_global_radiation  \\\n",
       "0               0.88             1.0003                       0.45   \n",
       "1               0.91             1.0007                       0.25   \n",
       "2               0.91             1.0096                       0.17   \n",
       "3               0.86             1.0184                       0.13   \n",
       "4               0.80             1.0328                       0.46   \n",
       "\n",
       "   VALENTIA_precipitation  VALENTIA_snow_depth  VALENTIA_sunshine  \\\n",
       "0                    0.34                    0                4.7   \n",
       "1                    0.84                    0                0.7   \n",
       "2                    0.08                    0                0.1   \n",
       "3                    0.98                    0                0.0   \n",
       "4                    0.00                    0                5.7   \n",
       "\n",
       "   VALENTIA_temp_mean  VALENTIA_temp_min  VALENTIA_temp_max  \n",
       "0                 8.5                6.0               10.9  \n",
       "1                 8.9                5.6               12.1  \n",
       "2                10.5                8.1               12.9  \n",
       "3                 7.4                7.3               10.6  \n",
       "4                 5.7                3.0                8.4  \n",
       "\n",
       "[5 rows x 147 columns]"
      ]
     },
     "execution_count": 14,
     "metadata": {},
     "output_type": "execute_result"
    }
   ],
   "source": [
    "df.head()"
   ]
  },
  {
   "cell_type": "code",
   "execution_count": 16,
   "id": "8aa6c367-4daf-4e24-bcf8-5ad9a8597266",
   "metadata": {},
   "outputs": [
    {
     "data": {
      "text/html": [
       "<div>\n",
       "<style scoped>\n",
       "    .dataframe tbody tr th:only-of-type {\n",
       "        vertical-align: middle;\n",
       "    }\n",
       "\n",
       "    .dataframe tbody tr th {\n",
       "        vertical-align: top;\n",
       "    }\n",
       "\n",
       "    .dataframe thead th {\n",
       "        text-align: right;\n",
       "    }\n",
       "</style>\n",
       "<table border=\"1\" class=\"dataframe\">\n",
       "  <thead>\n",
       "    <tr style=\"text-align: right;\">\n",
       "      <th></th>\n",
       "      <th>DATE</th>\n",
       "      <th>BASEL_pleasant_weather</th>\n",
       "      <th>BELGRADE_pleasant_weather</th>\n",
       "      <th>BUDAPEST_pleasant_weather</th>\n",
       "      <th>DEBILT_pleasant_weather</th>\n",
       "      <th>DUSSELDORF_pleasant_weather</th>\n",
       "      <th>HEATHROW_pleasant_weather</th>\n",
       "      <th>KASSEL_pleasant_weather</th>\n",
       "      <th>LJUBLJANA_pleasant_weather</th>\n",
       "      <th>MAASTRICHT_pleasant_weather</th>\n",
       "      <th>MADRID_pleasant_weather</th>\n",
       "      <th>MUNCHENB_pleasant_weather</th>\n",
       "      <th>OSLO_pleasant_weather</th>\n",
       "      <th>SONNBLICK_pleasant_weather</th>\n",
       "      <th>STOCKHOLM_pleasant_weather</th>\n",
       "      <th>VALENTIA_pleasant_weather</th>\n",
       "    </tr>\n",
       "  </thead>\n",
       "  <tbody>\n",
       "    <tr>\n",
       "      <th>0</th>\n",
       "      <td>19600101</td>\n",
       "      <td>0</td>\n",
       "      <td>0</td>\n",
       "      <td>0</td>\n",
       "      <td>0</td>\n",
       "      <td>0</td>\n",
       "      <td>0</td>\n",
       "      <td>0</td>\n",
       "      <td>0</td>\n",
       "      <td>0</td>\n",
       "      <td>0</td>\n",
       "      <td>0</td>\n",
       "      <td>0</td>\n",
       "      <td>0</td>\n",
       "      <td>0</td>\n",
       "      <td>0</td>\n",
       "    </tr>\n",
       "    <tr>\n",
       "      <th>1</th>\n",
       "      <td>19600102</td>\n",
       "      <td>0</td>\n",
       "      <td>0</td>\n",
       "      <td>0</td>\n",
       "      <td>0</td>\n",
       "      <td>0</td>\n",
       "      <td>0</td>\n",
       "      <td>0</td>\n",
       "      <td>0</td>\n",
       "      <td>0</td>\n",
       "      <td>0</td>\n",
       "      <td>0</td>\n",
       "      <td>0</td>\n",
       "      <td>0</td>\n",
       "      <td>0</td>\n",
       "      <td>0</td>\n",
       "    </tr>\n",
       "    <tr>\n",
       "      <th>2</th>\n",
       "      <td>19600103</td>\n",
       "      <td>0</td>\n",
       "      <td>0</td>\n",
       "      <td>0</td>\n",
       "      <td>0</td>\n",
       "      <td>0</td>\n",
       "      <td>0</td>\n",
       "      <td>0</td>\n",
       "      <td>0</td>\n",
       "      <td>0</td>\n",
       "      <td>0</td>\n",
       "      <td>0</td>\n",
       "      <td>0</td>\n",
       "      <td>0</td>\n",
       "      <td>0</td>\n",
       "      <td>0</td>\n",
       "    </tr>\n",
       "    <tr>\n",
       "      <th>3</th>\n",
       "      <td>19600104</td>\n",
       "      <td>0</td>\n",
       "      <td>0</td>\n",
       "      <td>0</td>\n",
       "      <td>0</td>\n",
       "      <td>0</td>\n",
       "      <td>0</td>\n",
       "      <td>0</td>\n",
       "      <td>0</td>\n",
       "      <td>0</td>\n",
       "      <td>0</td>\n",
       "      <td>0</td>\n",
       "      <td>0</td>\n",
       "      <td>0</td>\n",
       "      <td>0</td>\n",
       "      <td>0</td>\n",
       "    </tr>\n",
       "    <tr>\n",
       "      <th>4</th>\n",
       "      <td>19600105</td>\n",
       "      <td>0</td>\n",
       "      <td>0</td>\n",
       "      <td>0</td>\n",
       "      <td>0</td>\n",
       "      <td>0</td>\n",
       "      <td>0</td>\n",
       "      <td>0</td>\n",
       "      <td>0</td>\n",
       "      <td>0</td>\n",
       "      <td>0</td>\n",
       "      <td>0</td>\n",
       "      <td>0</td>\n",
       "      <td>0</td>\n",
       "      <td>0</td>\n",
       "      <td>0</td>\n",
       "    </tr>\n",
       "  </tbody>\n",
       "</table>\n",
       "</div>"
      ],
      "text/plain": [
       "       DATE  BASEL_pleasant_weather  BELGRADE_pleasant_weather  \\\n",
       "0  19600101                       0                          0   \n",
       "1  19600102                       0                          0   \n",
       "2  19600103                       0                          0   \n",
       "3  19600104                       0                          0   \n",
       "4  19600105                       0                          0   \n",
       "\n",
       "   BUDAPEST_pleasant_weather  DEBILT_pleasant_weather  \\\n",
       "0                          0                        0   \n",
       "1                          0                        0   \n",
       "2                          0                        0   \n",
       "3                          0                        0   \n",
       "4                          0                        0   \n",
       "\n",
       "   DUSSELDORF_pleasant_weather  HEATHROW_pleasant_weather  \\\n",
       "0                            0                          0   \n",
       "1                            0                          0   \n",
       "2                            0                          0   \n",
       "3                            0                          0   \n",
       "4                            0                          0   \n",
       "\n",
       "   KASSEL_pleasant_weather  LJUBLJANA_pleasant_weather  \\\n",
       "0                        0                           0   \n",
       "1                        0                           0   \n",
       "2                        0                           0   \n",
       "3                        0                           0   \n",
       "4                        0                           0   \n",
       "\n",
       "   MAASTRICHT_pleasant_weather  MADRID_pleasant_weather  \\\n",
       "0                            0                        0   \n",
       "1                            0                        0   \n",
       "2                            0                        0   \n",
       "3                            0                        0   \n",
       "4                            0                        0   \n",
       "\n",
       "   MUNCHENB_pleasant_weather  OSLO_pleasant_weather  \\\n",
       "0                          0                      0   \n",
       "1                          0                      0   \n",
       "2                          0                      0   \n",
       "3                          0                      0   \n",
       "4                          0                      0   \n",
       "\n",
       "   SONNBLICK_pleasant_weather  STOCKHOLM_pleasant_weather  \\\n",
       "0                           0                           0   \n",
       "1                           0                           0   \n",
       "2                           0                           0   \n",
       "3                           0                           0   \n",
       "4                           0                           0   \n",
       "\n",
       "   VALENTIA_pleasant_weather  \n",
       "0                          0  \n",
       "1                          0  \n",
       "2                          0  \n",
       "3                          0  \n",
       "4                          0  "
      ]
     },
     "execution_count": 16,
     "metadata": {},
     "output_type": "execute_result"
    }
   ],
   "source": [
    "pleasant.head()"
   ]
  },
  {
   "cell_type": "code",
   "execution_count": 21,
   "id": "91b79057-cfe3-46f3-843e-4c20e9e5d63f",
   "metadata": {},
   "outputs": [],
   "source": [
    "pleasant.drop(columns = 'DATE', inplace = True)"
   ]
  },
  {
   "cell_type": "code",
   "execution_count": 23,
   "id": "076bedd4-27db-45ea-9fca-e59b1907dcae",
   "metadata": {},
   "outputs": [
    {
     "data": {
      "text/html": [
       "<div>\n",
       "<style scoped>\n",
       "    .dataframe tbody tr th:only-of-type {\n",
       "        vertical-align: middle;\n",
       "    }\n",
       "\n",
       "    .dataframe tbody tr th {\n",
       "        vertical-align: top;\n",
       "    }\n",
       "\n",
       "    .dataframe thead th {\n",
       "        text-align: right;\n",
       "    }\n",
       "</style>\n",
       "<table border=\"1\" class=\"dataframe\">\n",
       "  <thead>\n",
       "    <tr style=\"text-align: right;\">\n",
       "      <th></th>\n",
       "      <th>BASEL_pleasant_weather</th>\n",
       "      <th>BELGRADE_pleasant_weather</th>\n",
       "      <th>BUDAPEST_pleasant_weather</th>\n",
       "      <th>DEBILT_pleasant_weather</th>\n",
       "      <th>DUSSELDORF_pleasant_weather</th>\n",
       "      <th>HEATHROW_pleasant_weather</th>\n",
       "      <th>KASSEL_pleasant_weather</th>\n",
       "      <th>LJUBLJANA_pleasant_weather</th>\n",
       "      <th>MAASTRICHT_pleasant_weather</th>\n",
       "      <th>MADRID_pleasant_weather</th>\n",
       "      <th>MUNCHENB_pleasant_weather</th>\n",
       "      <th>OSLO_pleasant_weather</th>\n",
       "      <th>SONNBLICK_pleasant_weather</th>\n",
       "      <th>STOCKHOLM_pleasant_weather</th>\n",
       "      <th>VALENTIA_pleasant_weather</th>\n",
       "    </tr>\n",
       "  </thead>\n",
       "  <tbody>\n",
       "    <tr>\n",
       "      <th>0</th>\n",
       "      <td>0</td>\n",
       "      <td>0</td>\n",
       "      <td>0</td>\n",
       "      <td>0</td>\n",
       "      <td>0</td>\n",
       "      <td>0</td>\n",
       "      <td>0</td>\n",
       "      <td>0</td>\n",
       "      <td>0</td>\n",
       "      <td>0</td>\n",
       "      <td>0</td>\n",
       "      <td>0</td>\n",
       "      <td>0</td>\n",
       "      <td>0</td>\n",
       "      <td>0</td>\n",
       "    </tr>\n",
       "    <tr>\n",
       "      <th>1</th>\n",
       "      <td>0</td>\n",
       "      <td>0</td>\n",
       "      <td>0</td>\n",
       "      <td>0</td>\n",
       "      <td>0</td>\n",
       "      <td>0</td>\n",
       "      <td>0</td>\n",
       "      <td>0</td>\n",
       "      <td>0</td>\n",
       "      <td>0</td>\n",
       "      <td>0</td>\n",
       "      <td>0</td>\n",
       "      <td>0</td>\n",
       "      <td>0</td>\n",
       "      <td>0</td>\n",
       "    </tr>\n",
       "    <tr>\n",
       "      <th>2</th>\n",
       "      <td>0</td>\n",
       "      <td>0</td>\n",
       "      <td>0</td>\n",
       "      <td>0</td>\n",
       "      <td>0</td>\n",
       "      <td>0</td>\n",
       "      <td>0</td>\n",
       "      <td>0</td>\n",
       "      <td>0</td>\n",
       "      <td>0</td>\n",
       "      <td>0</td>\n",
       "      <td>0</td>\n",
       "      <td>0</td>\n",
       "      <td>0</td>\n",
       "      <td>0</td>\n",
       "    </tr>\n",
       "    <tr>\n",
       "      <th>3</th>\n",
       "      <td>0</td>\n",
       "      <td>0</td>\n",
       "      <td>0</td>\n",
       "      <td>0</td>\n",
       "      <td>0</td>\n",
       "      <td>0</td>\n",
       "      <td>0</td>\n",
       "      <td>0</td>\n",
       "      <td>0</td>\n",
       "      <td>0</td>\n",
       "      <td>0</td>\n",
       "      <td>0</td>\n",
       "      <td>0</td>\n",
       "      <td>0</td>\n",
       "      <td>0</td>\n",
       "    </tr>\n",
       "    <tr>\n",
       "      <th>4</th>\n",
       "      <td>0</td>\n",
       "      <td>0</td>\n",
       "      <td>0</td>\n",
       "      <td>0</td>\n",
       "      <td>0</td>\n",
       "      <td>0</td>\n",
       "      <td>0</td>\n",
       "      <td>0</td>\n",
       "      <td>0</td>\n",
       "      <td>0</td>\n",
       "      <td>0</td>\n",
       "      <td>0</td>\n",
       "      <td>0</td>\n",
       "      <td>0</td>\n",
       "      <td>0</td>\n",
       "    </tr>\n",
       "  </tbody>\n",
       "</table>\n",
       "</div>"
      ],
      "text/plain": [
       "   BASEL_pleasant_weather  BELGRADE_pleasant_weather  \\\n",
       "0                       0                          0   \n",
       "1                       0                          0   \n",
       "2                       0                          0   \n",
       "3                       0                          0   \n",
       "4                       0                          0   \n",
       "\n",
       "   BUDAPEST_pleasant_weather  DEBILT_pleasant_weather  \\\n",
       "0                          0                        0   \n",
       "1                          0                        0   \n",
       "2                          0                        0   \n",
       "3                          0                        0   \n",
       "4                          0                        0   \n",
       "\n",
       "   DUSSELDORF_pleasant_weather  HEATHROW_pleasant_weather  \\\n",
       "0                            0                          0   \n",
       "1                            0                          0   \n",
       "2                            0                          0   \n",
       "3                            0                          0   \n",
       "4                            0                          0   \n",
       "\n",
       "   KASSEL_pleasant_weather  LJUBLJANA_pleasant_weather  \\\n",
       "0                        0                           0   \n",
       "1                        0                           0   \n",
       "2                        0                           0   \n",
       "3                        0                           0   \n",
       "4                        0                           0   \n",
       "\n",
       "   MAASTRICHT_pleasant_weather  MADRID_pleasant_weather  \\\n",
       "0                            0                        0   \n",
       "1                            0                        0   \n",
       "2                            0                        0   \n",
       "3                            0                        0   \n",
       "4                            0                        0   \n",
       "\n",
       "   MUNCHENB_pleasant_weather  OSLO_pleasant_weather  \\\n",
       "0                          0                      0   \n",
       "1                          0                      0   \n",
       "2                          0                      0   \n",
       "3                          0                      0   \n",
       "4                          0                      0   \n",
       "\n",
       "   SONNBLICK_pleasant_weather  STOCKHOLM_pleasant_weather  \\\n",
       "0                           0                           0   \n",
       "1                           0                           0   \n",
       "2                           0                           0   \n",
       "3                           0                           0   \n",
       "4                           0                           0   \n",
       "\n",
       "   VALENTIA_pleasant_weather  \n",
       "0                          0  \n",
       "1                          0  \n",
       "2                          0  \n",
       "3                          0  \n",
       "4                          0  "
      ]
     },
     "execution_count": 23,
     "metadata": {},
     "output_type": "execute_result"
    }
   ],
   "source": [
    "pleasant.head()"
   ]
  },
  {
   "cell_type": "markdown",
   "id": "5209d4d1-af4d-4f59-bb22-3b855aa74b08",
   "metadata": {
    "jp-MarkdownHeadingCollapsed": true
   },
   "source": [
    "### 3. Adjust data to fit the model"
   ]
  },
  {
   "cell_type": "code",
   "execution_count": 60,
   "id": "cd52483f-f532-4d17-b006-58d0ebb3b69b",
   "metadata": {},
   "outputs": [],
   "source": [
    "observation_types = ['cloud_cover', 'wind_speed', 'humidity', 'pressure',\n",
    "                     'global_radiation', 'precipitation', 'snow_depth', \n",
    "                     'sunshine', 'temp_mean', 'temp_min', 'temp_max']"
   ]
  },
  {
   "cell_type": "code",
   "execution_count": 64,
   "id": "3f792e29-3165-417d-9f47-2a7600d073bf",
   "metadata": {},
   "outputs": [
    {
     "name": "stdout",
     "output_type": "stream",
     "text": [
      "Number of stations covered by each observation type:\n",
      "cloud_cover: 14 stations\n",
      "wind_speed: 9 stations\n",
      "humidity: 14 stations\n",
      "pressure: 14 stations\n",
      "global_radiation: 15 stations\n",
      "precipitation: 15 stations\n",
      "snow_depth: 6 stations\n",
      "sunshine: 15 stations\n",
      "temp_mean: 15 stations\n",
      "temp_min: 15 stations\n",
      "temp_max: 15 stations\n"
     ]
    }
   ],
   "source": [
    "station_counts = {}\n",
    "\n",
    "for obs in observation_types:\n",
    "    # Select columns related to the current observation type\n",
    "    columns = [col for col in df.columns if col.endswith(obs)]\n",
    "    \n",
    "    # Count the number of stations (i.e., the number of columns) for the current observation type\n",
    "    station_counts[obs] = len(columns)\n",
    "\n",
    "# Print the count of stations for each observation type\n",
    "print(\"Number of stations covered by each observation type:\")\n",
    "for obs, count in station_counts.items():\n",
    "    print(f\"{obs}: {count} stations\")"
   ]
  },
  {
   "cell_type": "code",
   "execution_count": 68,
   "id": "e40243da-1042-4f99-8e5f-f81242683c0e",
   "metadata": {},
   "outputs": [
    {
     "data": {
      "text/plain": [
       "Index(['BASEL_wind_speed', 'BASEL_snow_depth', 'DEBILT_wind_speed',\n",
       "       'DUSSELDORF_wind_speed', 'DUSSELDORF_snow_depth', 'HEATHROW_snow_depth',\n",
       "       'KASSEL_wind_speed', 'LJUBLJANA_wind_speed', 'MAASTRICHT_wind_speed',\n",
       "       'MADRID_wind_speed', 'MUNCHENB_snow_depth', 'OSLO_wind_speed',\n",
       "       'OSLO_snow_depth', 'SONNBLICK_wind_speed', 'VALENTIA_snow_depth'],\n",
       "      dtype='object')"
      ]
     },
     "execution_count": 68,
     "metadata": {},
     "output_type": "execute_result"
    }
   ],
   "source": [
    "columns_to_drop = df.filter(regex='(_wind_speed|_snow_depth)$').columns\n",
    "columns_to_drop"
   ]
  },
  {
   "cell_type": "code",
   "execution_count": 70,
   "id": "d8248512-1ccd-4b6e-8fa1-57962eef7d5d",
   "metadata": {},
   "outputs": [],
   "source": [
    "df = df.drop(columns=columns_to_drop)"
   ]
  },
  {
   "cell_type": "code",
   "execution_count": 72,
   "id": "f5aed698-95a6-4dfe-81eb-32e00d520f55",
   "metadata": {},
   "outputs": [
    {
     "data": {
      "text/plain": [
       "(22950, 132)"
      ]
     },
     "execution_count": 72,
     "metadata": {},
     "output_type": "execute_result"
    }
   ],
   "source": [
    "df.shape"
   ]
  },
  {
   "cell_type": "code",
   "execution_count": 76,
   "id": "7e1ae468-5bcd-475c-8e9b-989160397f92",
   "metadata": {},
   "outputs": [
    {
     "data": {
      "text/plain": [
       "{'BASEL',\n",
       " 'BELGRADE',\n",
       " 'BUDAPEST',\n",
       " 'DEBILT',\n",
       " 'DUSSELDORF',\n",
       " 'HEATHROW',\n",
       " 'KASSEL',\n",
       " 'LJUBLJANA',\n",
       " 'MAASTRICHT',\n",
       " 'MADRID',\n",
       " 'MUNCHENB',\n",
       " 'OSLO',\n",
       " 'SONNBLICK',\n",
       " 'STOCKHOLM',\n",
       " 'VALENTIA'}"
      ]
     },
     "execution_count": 76,
     "metadata": {},
     "output_type": "execute_result"
    }
   ],
   "source": [
    "all_stations = set([col.split('_')[0] for col in df.columns if '_' in col])\n",
    "all_stations"
   ]
  },
  {
   "cell_type": "code",
   "execution_count": 78,
   "id": "53a5c6a3-2432-4679-a1bf-51c0978a3326",
   "metadata": {},
   "outputs": [
    {
     "name": "stdout",
     "output_type": "stream",
     "text": [
      "\n",
      "Stations missing from cloud_cover:\n",
      "KASSEL\n",
      "\n",
      "Stations missing from humidity:\n",
      "STOCKHOLM\n",
      "\n",
      "Stations missing from pressure:\n",
      "MUNCHENB\n"
     ]
    }
   ],
   "source": [
    "observation_types = ['cloud_cover', 'humidity', 'pressure']\n",
    "\n",
    "missing_stations_by_observation = {}\n",
    "\n",
    "for obs in observation_types:\n",
    "    # Select columns related to the current observation type\n",
    "    columns = [col for col in df.columns if col.endswith(obs)]\n",
    "    \n",
    "    # Extract station names by removing the observation type from the column names\n",
    "    station_names = set([col.replace(f'_{obs}', '') for col in columns])\n",
    "    \n",
    "    # Identify stations that are in all_stations but missing from the current observation type\n",
    "    missing_stations = all_stations - station_names\n",
    "    \n",
    "    # Store the missing station names in the dictionary\n",
    "    missing_stations_by_observation[obs] = missing_stations\n",
    "\n",
    "# Print the missing station names for each observation type\n",
    "for obs, missing_stations in missing_stations_by_observation.items():\n",
    "    print(f\"\\nStations missing from {obs}:\")\n",
    "    if missing_stations:\n",
    "        for station in missing_stations:\n",
    "            print(station)\n",
    "    else:\n",
    "        print(\"None\")"
   ]
  },
  {
   "cell_type": "code",
   "execution_count": 82,
   "id": "45114d87-7186-4774-bd49-fd1ccb804940",
   "metadata": {},
   "outputs": [
    {
     "data": {
      "text/plain": [
       "53"
      ]
     },
     "execution_count": 82,
     "metadata": {},
     "output_type": "execute_result"
    }
   ],
   "source": [
    "df.columns.get_loc('HEATHROW_temp_max')"
   ]
  },
  {
   "cell_type": "code",
   "execution_count": 84,
   "id": "dc842d9b-bf98-463c-b6c1-ec1528a3a5d0",
   "metadata": {},
   "outputs": [
    {
     "data": {
      "text/plain": [
       "115"
      ]
     },
     "execution_count": 84,
     "metadata": {},
     "output_type": "execute_result"
    }
   ],
   "source": [
    "df.columns.get_loc('STOCKHOLM_cloud_cover') # +2"
   ]
  },
  {
   "cell_type": "code",
   "execution_count": 86,
   "id": "b10adb56-807e-42ce-a80e-3db394034a8d",
   "metadata": {},
   "outputs": [
    {
     "data": {
      "text/plain": [
       "90"
      ]
     },
     "execution_count": 86,
     "metadata": {},
     "output_type": "execute_result"
    }
   ],
   "source": [
    "df.columns.get_loc('MUNCHENB_humidity') # +2"
   ]
  },
  {
   "cell_type": "code",
   "execution_count": 88,
   "id": "cb23965b-a4e7-4bb0-ac78-ca495c28085f",
   "metadata": {},
   "outputs": [],
   "source": [
    "df.insert(54,'KASSEL_cloud_cover', df['DUSSELDORF_cloud_cover'])\n",
    "df.insert(117, 'STOCKHOLM_humidity', df['OSLO_humidity'])\n",
    "df.insert(92,'MUNCHENB_pressure',df['BASEL_pressure'])"
   ]
  },
  {
   "cell_type": "code",
   "execution_count": 92,
   "id": "bd370b3e-60e1-4fd7-af63-0253d9cee544",
   "metadata": {},
   "outputs": [
    {
     "data": {
      "text/plain": [
       "['BASEL_cloud_cover',\n",
       " 'BASEL_humidity',\n",
       " 'BASEL_pressure',\n",
       " 'BASEL_global_radiation',\n",
       " 'BASEL_precipitation',\n",
       " 'BASEL_sunshine',\n",
       " 'BASEL_temp_mean',\n",
       " 'BASEL_temp_min',\n",
       " 'BASEL_temp_max',\n",
       " 'BELGRADE_cloud_cover',\n",
       " 'BELGRADE_humidity',\n",
       " 'BELGRADE_pressure',\n",
       " 'BELGRADE_global_radiation',\n",
       " 'BELGRADE_precipitation',\n",
       " 'BELGRADE_sunshine',\n",
       " 'BELGRADE_temp_mean',\n",
       " 'BELGRADE_temp_min',\n",
       " 'BELGRADE_temp_max',\n",
       " 'BUDAPEST_cloud_cover',\n",
       " 'BUDAPEST_humidity',\n",
       " 'BUDAPEST_pressure',\n",
       " 'BUDAPEST_global_radiation',\n",
       " 'BUDAPEST_precipitation',\n",
       " 'BUDAPEST_sunshine',\n",
       " 'BUDAPEST_temp_mean',\n",
       " 'BUDAPEST_temp_min',\n",
       " 'BUDAPEST_temp_max',\n",
       " 'DEBILT_cloud_cover',\n",
       " 'DEBILT_humidity',\n",
       " 'DEBILT_pressure',\n",
       " 'DEBILT_global_radiation',\n",
       " 'DEBILT_precipitation',\n",
       " 'DEBILT_sunshine',\n",
       " 'DEBILT_temp_mean',\n",
       " 'DEBILT_temp_min',\n",
       " 'DEBILT_temp_max',\n",
       " 'DUSSELDORF_cloud_cover',\n",
       " 'DUSSELDORF_humidity',\n",
       " 'DUSSELDORF_pressure',\n",
       " 'DUSSELDORF_global_radiation',\n",
       " 'DUSSELDORF_precipitation',\n",
       " 'DUSSELDORF_sunshine',\n",
       " 'DUSSELDORF_temp_mean',\n",
       " 'DUSSELDORF_temp_min',\n",
       " 'DUSSELDORF_temp_max',\n",
       " 'HEATHROW_cloud_cover',\n",
       " 'HEATHROW_humidity',\n",
       " 'HEATHROW_pressure',\n",
       " 'HEATHROW_global_radiation',\n",
       " 'HEATHROW_precipitation',\n",
       " 'HEATHROW_sunshine',\n",
       " 'HEATHROW_temp_mean',\n",
       " 'HEATHROW_temp_min',\n",
       " 'HEATHROW_temp_max',\n",
       " 'KASSEL_cloud_cover',\n",
       " 'KASSEL_humidity',\n",
       " 'KASSEL_pressure',\n",
       " 'KASSEL_global_radiation',\n",
       " 'KASSEL_precipitation',\n",
       " 'KASSEL_sunshine',\n",
       " 'KASSEL_temp_mean',\n",
       " 'KASSEL_temp_min',\n",
       " 'KASSEL_temp_max',\n",
       " 'LJUBLJANA_cloud_cover',\n",
       " 'LJUBLJANA_humidity',\n",
       " 'LJUBLJANA_pressure',\n",
       " 'LJUBLJANA_global_radiation',\n",
       " 'LJUBLJANA_precipitation',\n",
       " 'LJUBLJANA_sunshine',\n",
       " 'LJUBLJANA_temp_mean',\n",
       " 'LJUBLJANA_temp_min',\n",
       " 'LJUBLJANA_temp_max',\n",
       " 'MAASTRICHT_cloud_cover',\n",
       " 'MAASTRICHT_humidity',\n",
       " 'MAASTRICHT_pressure',\n",
       " 'MAASTRICHT_global_radiation',\n",
       " 'MAASTRICHT_precipitation',\n",
       " 'MAASTRICHT_sunshine',\n",
       " 'MAASTRICHT_temp_mean',\n",
       " 'MAASTRICHT_temp_min',\n",
       " 'MAASTRICHT_temp_max',\n",
       " 'MADRID_cloud_cover',\n",
       " 'MADRID_humidity',\n",
       " 'MADRID_pressure',\n",
       " 'MADRID_global_radiation',\n",
       " 'MADRID_precipitation',\n",
       " 'MADRID_sunshine',\n",
       " 'MADRID_temp_mean',\n",
       " 'MADRID_temp_min',\n",
       " 'MADRID_temp_max',\n",
       " 'MUNCHENB_cloud_cover',\n",
       " 'MUNCHENB_humidity',\n",
       " 'MUNCHENB_pressure',\n",
       " 'MUNCHENB_global_radiation',\n",
       " 'MUNCHENB_precipitation',\n",
       " 'MUNCHENB_sunshine',\n",
       " 'MUNCHENB_temp_mean',\n",
       " 'MUNCHENB_temp_min',\n",
       " 'MUNCHENB_temp_max',\n",
       " 'OSLO_cloud_cover',\n",
       " 'OSLO_humidity',\n",
       " 'OSLO_pressure',\n",
       " 'OSLO_global_radiation',\n",
       " 'OSLO_precipitation',\n",
       " 'OSLO_sunshine',\n",
       " 'OSLO_temp_mean',\n",
       " 'OSLO_temp_min',\n",
       " 'OSLO_temp_max',\n",
       " 'SONNBLICK_cloud_cover',\n",
       " 'SONNBLICK_humidity',\n",
       " 'SONNBLICK_pressure',\n",
       " 'SONNBLICK_global_radiation',\n",
       " 'SONNBLICK_precipitation',\n",
       " 'SONNBLICK_sunshine',\n",
       " 'SONNBLICK_temp_mean',\n",
       " 'SONNBLICK_temp_min',\n",
       " 'SONNBLICK_temp_max',\n",
       " 'STOCKHOLM_cloud_cover',\n",
       " 'STOCKHOLM_humidity',\n",
       " 'STOCKHOLM_pressure',\n",
       " 'STOCKHOLM_global_radiation',\n",
       " 'STOCKHOLM_precipitation',\n",
       " 'STOCKHOLM_sunshine',\n",
       " 'STOCKHOLM_temp_mean',\n",
       " 'STOCKHOLM_temp_min',\n",
       " 'STOCKHOLM_temp_max',\n",
       " 'VALENTIA_cloud_cover',\n",
       " 'VALENTIA_humidity',\n",
       " 'VALENTIA_pressure',\n",
       " 'VALENTIA_global_radiation',\n",
       " 'VALENTIA_precipitation',\n",
       " 'VALENTIA_sunshine',\n",
       " 'VALENTIA_temp_mean',\n",
       " 'VALENTIA_temp_min',\n",
       " 'VALENTIA_temp_max']"
      ]
     },
     "execution_count": 92,
     "metadata": {},
     "output_type": "execute_result"
    }
   ],
   "source": [
    "df.columns.tolist()"
   ]
  },
  {
   "cell_type": "code",
   "execution_count": 94,
   "id": "72578b8b-76d7-4252-8b3e-818ce66bc44f",
   "metadata": {},
   "outputs": [],
   "source": [
    "df.to_csv(os.path.join(path, 'Data', 'Prepared Data', 'weather_cleaned.csv'), index=False)"
   ]
  },
  {
   "cell_type": "code",
   "execution_count": 96,
   "id": "76dc0a51-4ca1-44b3-997d-7a27901fa1a2",
   "metadata": {},
   "outputs": [
    {
     "data": {
      "text/plain": [
       "(22950, 135)"
      ]
     },
     "execution_count": 96,
     "metadata": {},
     "output_type": "execute_result"
    }
   ],
   "source": [
    "df.shape"
   ]
  },
  {
   "cell_type": "code",
   "execution_count": 98,
   "id": "577c1c0f-7acc-4df3-8063-959cde55eb94",
   "metadata": {},
   "outputs": [
    {
     "data": {
      "text/plain": [
       "(22950, 15)"
      ]
     },
     "execution_count": 98,
     "metadata": {},
     "output_type": "execute_result"
    }
   ],
   "source": [
    "pleasant.shape"
   ]
  },
  {
   "cell_type": "markdown",
   "id": "cf057351-3612-4e16-90cc-50d63948fe92",
   "metadata": {},
   "source": [
    "### 4. Splitting Data"
   ]
  },
  {
   "cell_type": "code",
   "execution_count": 110,
   "id": "a66092bd-135d-430b-81ea-f498174f7223",
   "metadata": {},
   "outputs": [],
   "source": [
    "X = pd.read_csv(os.path.join(path, 'Data', 'Prepared Data', 'weather_cleaned.csv'), index_col =False)"
   ]
  },
  {
   "cell_type": "code",
   "execution_count": 112,
   "id": "64ee966d-d310-4e35-b3e7-07692b7cd837",
   "metadata": {},
   "outputs": [
    {
     "data": {
      "text/html": [
       "<div>\n",
       "<style scoped>\n",
       "    .dataframe tbody tr th:only-of-type {\n",
       "        vertical-align: middle;\n",
       "    }\n",
       "\n",
       "    .dataframe tbody tr th {\n",
       "        vertical-align: top;\n",
       "    }\n",
       "\n",
       "    .dataframe thead th {\n",
       "        text-align: right;\n",
       "    }\n",
       "</style>\n",
       "<table border=\"1\" class=\"dataframe\">\n",
       "  <thead>\n",
       "    <tr style=\"text-align: right;\">\n",
       "      <th></th>\n",
       "      <th>BASEL_cloud_cover</th>\n",
       "      <th>BASEL_humidity</th>\n",
       "      <th>BASEL_pressure</th>\n",
       "      <th>BASEL_global_radiation</th>\n",
       "      <th>BASEL_precipitation</th>\n",
       "      <th>BASEL_sunshine</th>\n",
       "      <th>BASEL_temp_mean</th>\n",
       "      <th>BASEL_temp_min</th>\n",
       "      <th>BASEL_temp_max</th>\n",
       "      <th>BELGRADE_cloud_cover</th>\n",
       "      <th>...</th>\n",
       "      <th>STOCKHOLM_temp_max</th>\n",
       "      <th>VALENTIA_cloud_cover</th>\n",
       "      <th>VALENTIA_humidity</th>\n",
       "      <th>VALENTIA_pressure</th>\n",
       "      <th>VALENTIA_global_radiation</th>\n",
       "      <th>VALENTIA_precipitation</th>\n",
       "      <th>VALENTIA_sunshine</th>\n",
       "      <th>VALENTIA_temp_mean</th>\n",
       "      <th>VALENTIA_temp_min</th>\n",
       "      <th>VALENTIA_temp_max</th>\n",
       "    </tr>\n",
       "  </thead>\n",
       "  <tbody>\n",
       "    <tr>\n",
       "      <th>0</th>\n",
       "      <td>7</td>\n",
       "      <td>0.85</td>\n",
       "      <td>1.0180</td>\n",
       "      <td>0.32</td>\n",
       "      <td>0.09</td>\n",
       "      <td>0.7</td>\n",
       "      <td>6.5</td>\n",
       "      <td>0.8</td>\n",
       "      <td>10.9</td>\n",
       "      <td>1</td>\n",
       "      <td>...</td>\n",
       "      <td>4.9</td>\n",
       "      <td>5</td>\n",
       "      <td>0.88</td>\n",
       "      <td>1.0003</td>\n",
       "      <td>0.45</td>\n",
       "      <td>0.34</td>\n",
       "      <td>4.7</td>\n",
       "      <td>8.5</td>\n",
       "      <td>6.0</td>\n",
       "      <td>10.9</td>\n",
       "    </tr>\n",
       "    <tr>\n",
       "      <th>1</th>\n",
       "      <td>6</td>\n",
       "      <td>0.84</td>\n",
       "      <td>1.0180</td>\n",
       "      <td>0.36</td>\n",
       "      <td>1.05</td>\n",
       "      <td>1.1</td>\n",
       "      <td>6.1</td>\n",
       "      <td>3.3</td>\n",
       "      <td>10.1</td>\n",
       "      <td>6</td>\n",
       "      <td>...</td>\n",
       "      <td>5.0</td>\n",
       "      <td>7</td>\n",
       "      <td>0.91</td>\n",
       "      <td>1.0007</td>\n",
       "      <td>0.25</td>\n",
       "      <td>0.84</td>\n",
       "      <td>0.7</td>\n",
       "      <td>8.9</td>\n",
       "      <td>5.6</td>\n",
       "      <td>12.1</td>\n",
       "    </tr>\n",
       "    <tr>\n",
       "      <th>2</th>\n",
       "      <td>8</td>\n",
       "      <td>0.90</td>\n",
       "      <td>1.0180</td>\n",
       "      <td>0.18</td>\n",
       "      <td>0.30</td>\n",
       "      <td>0.0</td>\n",
       "      <td>8.5</td>\n",
       "      <td>5.1</td>\n",
       "      <td>9.9</td>\n",
       "      <td>6</td>\n",
       "      <td>...</td>\n",
       "      <td>4.1</td>\n",
       "      <td>7</td>\n",
       "      <td>0.91</td>\n",
       "      <td>1.0096</td>\n",
       "      <td>0.17</td>\n",
       "      <td>0.08</td>\n",
       "      <td>0.1</td>\n",
       "      <td>10.5</td>\n",
       "      <td>8.1</td>\n",
       "      <td>12.9</td>\n",
       "    </tr>\n",
       "    <tr>\n",
       "      <th>3</th>\n",
       "      <td>3</td>\n",
       "      <td>0.92</td>\n",
       "      <td>1.0180</td>\n",
       "      <td>0.58</td>\n",
       "      <td>0.00</td>\n",
       "      <td>4.1</td>\n",
       "      <td>6.3</td>\n",
       "      <td>3.8</td>\n",
       "      <td>10.6</td>\n",
       "      <td>8</td>\n",
       "      <td>...</td>\n",
       "      <td>2.3</td>\n",
       "      <td>7</td>\n",
       "      <td>0.86</td>\n",
       "      <td>1.0184</td>\n",
       "      <td>0.13</td>\n",
       "      <td>0.98</td>\n",
       "      <td>0.0</td>\n",
       "      <td>7.4</td>\n",
       "      <td>7.3</td>\n",
       "      <td>10.6</td>\n",
       "    </tr>\n",
       "    <tr>\n",
       "      <th>4</th>\n",
       "      <td>6</td>\n",
       "      <td>0.95</td>\n",
       "      <td>1.0180</td>\n",
       "      <td>0.65</td>\n",
       "      <td>0.14</td>\n",
       "      <td>5.4</td>\n",
       "      <td>3.0</td>\n",
       "      <td>-0.7</td>\n",
       "      <td>6.0</td>\n",
       "      <td>8</td>\n",
       "      <td>...</td>\n",
       "      <td>4.3</td>\n",
       "      <td>3</td>\n",
       "      <td>0.80</td>\n",
       "      <td>1.0328</td>\n",
       "      <td>0.46</td>\n",
       "      <td>0.00</td>\n",
       "      <td>5.7</td>\n",
       "      <td>5.7</td>\n",
       "      <td>3.0</td>\n",
       "      <td>8.4</td>\n",
       "    </tr>\n",
       "    <tr>\n",
       "      <th>...</th>\n",
       "      <td>...</td>\n",
       "      <td>...</td>\n",
       "      <td>...</td>\n",
       "      <td>...</td>\n",
       "      <td>...</td>\n",
       "      <td>...</td>\n",
       "      <td>...</td>\n",
       "      <td>...</td>\n",
       "      <td>...</td>\n",
       "      <td>...</td>\n",
       "      <td>...</td>\n",
       "      <td>...</td>\n",
       "      <td>...</td>\n",
       "      <td>...</td>\n",
       "      <td>...</td>\n",
       "      <td>...</td>\n",
       "      <td>...</td>\n",
       "      <td>...</td>\n",
       "      <td>...</td>\n",
       "      <td>...</td>\n",
       "      <td>...</td>\n",
       "    </tr>\n",
       "    <tr>\n",
       "      <th>22945</th>\n",
       "      <td>1</td>\n",
       "      <td>0.79</td>\n",
       "      <td>1.0248</td>\n",
       "      <td>1.34</td>\n",
       "      <td>0.22</td>\n",
       "      <td>7.7</td>\n",
       "      <td>15.9</td>\n",
       "      <td>11.4</td>\n",
       "      <td>21.4</td>\n",
       "      <td>2</td>\n",
       "      <td>...</td>\n",
       "      <td>14.2</td>\n",
       "      <td>5</td>\n",
       "      <td>0.82</td>\n",
       "      <td>1.0142</td>\n",
       "      <td>1.13</td>\n",
       "      <td>0.41</td>\n",
       "      <td>3.4</td>\n",
       "      <td>10.7</td>\n",
       "      <td>7.9</td>\n",
       "      <td>13.5</td>\n",
       "    </tr>\n",
       "    <tr>\n",
       "      <th>22946</th>\n",
       "      <td>6</td>\n",
       "      <td>0.77</td>\n",
       "      <td>1.0244</td>\n",
       "      <td>1.34</td>\n",
       "      <td>0.22</td>\n",
       "      <td>5.4</td>\n",
       "      <td>16.7</td>\n",
       "      <td>14.3</td>\n",
       "      <td>21.9</td>\n",
       "      <td>0</td>\n",
       "      <td>...</td>\n",
       "      <td>14.3</td>\n",
       "      <td>5</td>\n",
       "      <td>0.82</td>\n",
       "      <td>1.0142</td>\n",
       "      <td>1.13</td>\n",
       "      <td>0.41</td>\n",
       "      <td>3.4</td>\n",
       "      <td>10.7</td>\n",
       "      <td>7.9</td>\n",
       "      <td>13.5</td>\n",
       "    </tr>\n",
       "    <tr>\n",
       "      <th>22947</th>\n",
       "      <td>4</td>\n",
       "      <td>0.76</td>\n",
       "      <td>1.0227</td>\n",
       "      <td>1.34</td>\n",
       "      <td>0.22</td>\n",
       "      <td>6.1</td>\n",
       "      <td>16.7</td>\n",
       "      <td>13.1</td>\n",
       "      <td>22.4</td>\n",
       "      <td>2</td>\n",
       "      <td>...</td>\n",
       "      <td>14.4</td>\n",
       "      <td>5</td>\n",
       "      <td>0.82</td>\n",
       "      <td>1.0142</td>\n",
       "      <td>1.13</td>\n",
       "      <td>0.41</td>\n",
       "      <td>3.4</td>\n",
       "      <td>10.7</td>\n",
       "      <td>7.9</td>\n",
       "      <td>13.5</td>\n",
       "    </tr>\n",
       "    <tr>\n",
       "      <th>22948</th>\n",
       "      <td>5</td>\n",
       "      <td>0.80</td>\n",
       "      <td>1.0212</td>\n",
       "      <td>1.34</td>\n",
       "      <td>0.22</td>\n",
       "      <td>5.8</td>\n",
       "      <td>15.4</td>\n",
       "      <td>11.6</td>\n",
       "      <td>21.1</td>\n",
       "      <td>1</td>\n",
       "      <td>...</td>\n",
       "      <td>12.4</td>\n",
       "      <td>5</td>\n",
       "      <td>0.82</td>\n",
       "      <td>1.0142</td>\n",
       "      <td>1.13</td>\n",
       "      <td>0.41</td>\n",
       "      <td>3.4</td>\n",
       "      <td>10.7</td>\n",
       "      <td>7.9</td>\n",
       "      <td>13.5</td>\n",
       "    </tr>\n",
       "    <tr>\n",
       "      <th>22949</th>\n",
       "      <td>5</td>\n",
       "      <td>0.84</td>\n",
       "      <td>1.0193</td>\n",
       "      <td>1.34</td>\n",
       "      <td>0.22</td>\n",
       "      <td>3.2</td>\n",
       "      <td>13.5</td>\n",
       "      <td>9.9</td>\n",
       "      <td>19.2</td>\n",
       "      <td>4</td>\n",
       "      <td>...</td>\n",
       "      <td>12.6</td>\n",
       "      <td>5</td>\n",
       "      <td>0.82</td>\n",
       "      <td>1.0142</td>\n",
       "      <td>1.13</td>\n",
       "      <td>0.41</td>\n",
       "      <td>3.4</td>\n",
       "      <td>10.7</td>\n",
       "      <td>7.9</td>\n",
       "      <td>13.5</td>\n",
       "    </tr>\n",
       "  </tbody>\n",
       "</table>\n",
       "<p>22950 rows × 135 columns</p>\n",
       "</div>"
      ],
      "text/plain": [
       "       BASEL_cloud_cover  BASEL_humidity  BASEL_pressure  \\\n",
       "0                      7            0.85          1.0180   \n",
       "1                      6            0.84          1.0180   \n",
       "2                      8            0.90          1.0180   \n",
       "3                      3            0.92          1.0180   \n",
       "4                      6            0.95          1.0180   \n",
       "...                  ...             ...             ...   \n",
       "22945                  1            0.79          1.0248   \n",
       "22946                  6            0.77          1.0244   \n",
       "22947                  4            0.76          1.0227   \n",
       "22948                  5            0.80          1.0212   \n",
       "22949                  5            0.84          1.0193   \n",
       "\n",
       "       BASEL_global_radiation  BASEL_precipitation  BASEL_sunshine  \\\n",
       "0                        0.32                 0.09             0.7   \n",
       "1                        0.36                 1.05             1.1   \n",
       "2                        0.18                 0.30             0.0   \n",
       "3                        0.58                 0.00             4.1   \n",
       "4                        0.65                 0.14             5.4   \n",
       "...                       ...                  ...             ...   \n",
       "22945                    1.34                 0.22             7.7   \n",
       "22946                    1.34                 0.22             5.4   \n",
       "22947                    1.34                 0.22             6.1   \n",
       "22948                    1.34                 0.22             5.8   \n",
       "22949                    1.34                 0.22             3.2   \n",
       "\n",
       "       BASEL_temp_mean  BASEL_temp_min  BASEL_temp_max  BELGRADE_cloud_cover  \\\n",
       "0                  6.5             0.8            10.9                     1   \n",
       "1                  6.1             3.3            10.1                     6   \n",
       "2                  8.5             5.1             9.9                     6   \n",
       "3                  6.3             3.8            10.6                     8   \n",
       "4                  3.0            -0.7             6.0                     8   \n",
       "...                ...             ...             ...                   ...   \n",
       "22945             15.9            11.4            21.4                     2   \n",
       "22946             16.7            14.3            21.9                     0   \n",
       "22947             16.7            13.1            22.4                     2   \n",
       "22948             15.4            11.6            21.1                     1   \n",
       "22949             13.5             9.9            19.2                     4   \n",
       "\n",
       "       ...  STOCKHOLM_temp_max  VALENTIA_cloud_cover  VALENTIA_humidity  \\\n",
       "0      ...                 4.9                     5               0.88   \n",
       "1      ...                 5.0                     7               0.91   \n",
       "2      ...                 4.1                     7               0.91   \n",
       "3      ...                 2.3                     7               0.86   \n",
       "4      ...                 4.3                     3               0.80   \n",
       "...    ...                 ...                   ...                ...   \n",
       "22945  ...                14.2                     5               0.82   \n",
       "22946  ...                14.3                     5               0.82   \n",
       "22947  ...                14.4                     5               0.82   \n",
       "22948  ...                12.4                     5               0.82   \n",
       "22949  ...                12.6                     5               0.82   \n",
       "\n",
       "       VALENTIA_pressure  VALENTIA_global_radiation  VALENTIA_precipitation  \\\n",
       "0                 1.0003                       0.45                    0.34   \n",
       "1                 1.0007                       0.25                    0.84   \n",
       "2                 1.0096                       0.17                    0.08   \n",
       "3                 1.0184                       0.13                    0.98   \n",
       "4                 1.0328                       0.46                    0.00   \n",
       "...                  ...                        ...                     ...   \n",
       "22945             1.0142                       1.13                    0.41   \n",
       "22946             1.0142                       1.13                    0.41   \n",
       "22947             1.0142                       1.13                    0.41   \n",
       "22948             1.0142                       1.13                    0.41   \n",
       "22949             1.0142                       1.13                    0.41   \n",
       "\n",
       "       VALENTIA_sunshine  VALENTIA_temp_mean  VALENTIA_temp_min  \\\n",
       "0                    4.7                 8.5                6.0   \n",
       "1                    0.7                 8.9                5.6   \n",
       "2                    0.1                10.5                8.1   \n",
       "3                    0.0                 7.4                7.3   \n",
       "4                    5.7                 5.7                3.0   \n",
       "...                  ...                 ...                ...   \n",
       "22945                3.4                10.7                7.9   \n",
       "22946                3.4                10.7                7.9   \n",
       "22947                3.4                10.7                7.9   \n",
       "22948                3.4                10.7                7.9   \n",
       "22949                3.4                10.7                7.9   \n",
       "\n",
       "       VALENTIA_temp_max  \n",
       "0                   10.9  \n",
       "1                   12.1  \n",
       "2                   12.9  \n",
       "3                   10.6  \n",
       "4                    8.4  \n",
       "...                  ...  \n",
       "22945               13.5  \n",
       "22946               13.5  \n",
       "22947               13.5  \n",
       "22948               13.5  \n",
       "22949               13.5  \n",
       "\n",
       "[22950 rows x 135 columns]"
      ]
     },
     "execution_count": 112,
     "metadata": {},
     "output_type": "execute_result"
    }
   ],
   "source": [
    "X"
   ]
  },
  {
   "cell_type": "code",
   "execution_count": 114,
   "id": "5a8fff8d-d56a-43e7-9fe4-73d9131b31d6",
   "metadata": {},
   "outputs": [],
   "source": [
    "y = pleasant"
   ]
  },
  {
   "cell_type": "code",
   "execution_count": 116,
   "id": "7ec7bcd6-c05f-4b79-95db-790466ceb107",
   "metadata": {},
   "outputs": [],
   "source": [
    "X = np.array(X)\n",
    "y = np.array(y)"
   ]
  },
  {
   "cell_type": "code",
   "execution_count": 118,
   "id": "e576d1b5-0a9f-4f83-abd5-a3eda169199f",
   "metadata": {},
   "outputs": [],
   "source": [
    "X = X.reshape(-1,15,9)"
   ]
  },
  {
   "cell_type": "code",
   "execution_count": 120,
   "id": "5dbe6937-35ce-474e-8c9a-eeff7ee129bd",
   "metadata": {},
   "outputs": [
    {
     "data": {
      "text/plain": [
       "(22950, 15, 9)"
      ]
     },
     "execution_count": 120,
     "metadata": {},
     "output_type": "execute_result"
    }
   ],
   "source": [
    "X.shape"
   ]
  },
  {
   "cell_type": "code",
   "execution_count": 124,
   "id": "c78448fd-37bc-4b79-8a85-7863b31e37a5",
   "metadata": {},
   "outputs": [
    {
     "data": {
      "text/plain": [
       "(22950, 15)"
      ]
     },
     "execution_count": 124,
     "metadata": {},
     "output_type": "execute_result"
    }
   ],
   "source": [
    "y.shape"
   ]
  },
  {
   "cell_type": "code",
   "execution_count": 126,
   "id": "0185fed2-fd68-4090-a92a-691d348b2860",
   "metadata": {},
   "outputs": [],
   "source": [
    "X_train, X_test, y_train, y_test = train_test_split(X,y,random_state = 42)"
   ]
  },
  {
   "cell_type": "code",
   "execution_count": 128,
   "id": "ef8723e5-91ed-4beb-ba4e-90e3d77a6b4d",
   "metadata": {},
   "outputs": [
    {
     "name": "stdout",
     "output_type": "stream",
     "text": [
      "(17212, 15, 9) (17212, 15)\n",
      "(5738, 15, 9) (5738, 15)\n"
     ]
    }
   ],
   "source": [
    "print(X_train.shape, y_train.shape)\n",
    "print(X_test.shape, y_test.shape)"
   ]
  },
  {
   "cell_type": "markdown",
   "id": "6d7519b5-d607-4ce0-b9b0-7db714f3d70e",
   "metadata": {
    "jp-MarkdownHeadingCollapsed": true
   },
   "source": [
    "### 5. Creating Keras Model"
   ]
  },
  {
   "cell_type": "code",
   "execution_count": 198,
   "id": "00d431d6-66b2-4e3b-adb6-414281a26ee4",
   "metadata": {},
   "outputs": [
    {
     "name": "stderr",
     "output_type": "stream",
     "text": [
      "C:\\Users\\Nuria Miquel\\anaconda3\\Lib\\site-packages\\keras\\src\\layers\\convolutional\\base_conv.py:107: UserWarning: Do not pass an `input_shape`/`input_dim` argument to a layer. When using Sequential models, prefer using an `Input(shape)` object as the first layer in the model instead.\n",
      "  super().__init__(activity_regularizer=activity_regularizer, **kwargs)\n"
     ]
    }
   ],
   "source": [
    "epochs = 12\n",
    "batch_size = 32\n",
    "n_hidden = 256\n",
    "timesteps = X_train.shape[1] \n",
    "input_dim = X_train.shape[2]\n",
    "n_classes = y_train.shape[1]\n",
    "\n",
    "model = Sequential()\n",
    "model.add(Conv1D(n_hidden, kernel_size=2, activation='relu', input_shape=(timesteps, input_dim)))\n",
    "model.add(Dense(16, activation='relu'))\n",
    "model.add(MaxPooling1D())\n",
    "model.add(Flatten())\n",
    "model.add(Dense(n_classes, activation='softmax')) # Options: sigmoid, tanh, softmax, relu"
   ]
  },
  {
   "cell_type": "code",
   "execution_count": 200,
   "id": "a9a2452a-f1df-48aa-bbdb-e60e25f84f3e",
   "metadata": {},
   "outputs": [
    {
     "data": {
      "text/html": [
       "<pre style=\"white-space:pre;overflow-x:auto;line-height:normal;font-family:Menlo,'DejaVu Sans Mono',consolas,'Courier New',monospace\"><span style=\"font-weight: bold\">Model: \"sequential_9\"</span>\n",
       "</pre>\n"
      ],
      "text/plain": [
       "\u001b[1mModel: \"sequential_9\"\u001b[0m\n"
      ]
     },
     "metadata": {},
     "output_type": "display_data"
    },
    {
     "data": {
      "text/html": [
       "<pre style=\"white-space:pre;overflow-x:auto;line-height:normal;font-family:Menlo,'DejaVu Sans Mono',consolas,'Courier New',monospace\">┏━━━━━━━━━━━━━━━━━━━━━━━━━━━━━━━━━┳━━━━━━━━━━━━━━━━━━━━━━━━┳━━━━━━━━━━━━━━━┓\n",
       "┃<span style=\"font-weight: bold\"> Layer (type)                    </span>┃<span style=\"font-weight: bold\"> Output Shape           </span>┃<span style=\"font-weight: bold\">       Param # </span>┃\n",
       "┡━━━━━━━━━━━━━━━━━━━━━━━━━━━━━━━━━╇━━━━━━━━━━━━━━━━━━━━━━━━╇━━━━━━━━━━━━━━━┩\n",
       "│ conv1d_7 (<span style=\"color: #0087ff; text-decoration-color: #0087ff\">Conv1D</span>)               │ (<span style=\"color: #00d7ff; text-decoration-color: #00d7ff\">None</span>, <span style=\"color: #00af00; text-decoration-color: #00af00\">14</span>, <span style=\"color: #00af00; text-decoration-color: #00af00\">256</span>)        │         <span style=\"color: #00af00; text-decoration-color: #00af00\">4,864</span> │\n",
       "├─────────────────────────────────┼────────────────────────┼───────────────┤\n",
       "│ dense_14 (<span style=\"color: #0087ff; text-decoration-color: #0087ff\">Dense</span>)                │ (<span style=\"color: #00d7ff; text-decoration-color: #00d7ff\">None</span>, <span style=\"color: #00af00; text-decoration-color: #00af00\">14</span>, <span style=\"color: #00af00; text-decoration-color: #00af00\">16</span>)         │         <span style=\"color: #00af00; text-decoration-color: #00af00\">4,112</span> │\n",
       "├─────────────────────────────────┼────────────────────────┼───────────────┤\n",
       "│ max_pooling1d_7 (<span style=\"color: #0087ff; text-decoration-color: #0087ff\">MaxPooling1D</span>)  │ (<span style=\"color: #00d7ff; text-decoration-color: #00d7ff\">None</span>, <span style=\"color: #00af00; text-decoration-color: #00af00\">7</span>, <span style=\"color: #00af00; text-decoration-color: #00af00\">16</span>)          │             <span style=\"color: #00af00; text-decoration-color: #00af00\">0</span> │\n",
       "├─────────────────────────────────┼────────────────────────┼───────────────┤\n",
       "│ flatten_7 (<span style=\"color: #0087ff; text-decoration-color: #0087ff\">Flatten</span>)             │ (<span style=\"color: #00d7ff; text-decoration-color: #00d7ff\">None</span>, <span style=\"color: #00af00; text-decoration-color: #00af00\">112</span>)            │             <span style=\"color: #00af00; text-decoration-color: #00af00\">0</span> │\n",
       "├─────────────────────────────────┼────────────────────────┼───────────────┤\n",
       "│ dense_15 (<span style=\"color: #0087ff; text-decoration-color: #0087ff\">Dense</span>)                │ (<span style=\"color: #00d7ff; text-decoration-color: #00d7ff\">None</span>, <span style=\"color: #00af00; text-decoration-color: #00af00\">15</span>)             │         <span style=\"color: #00af00; text-decoration-color: #00af00\">1,695</span> │\n",
       "└─────────────────────────────────┴────────────────────────┴───────────────┘\n",
       "</pre>\n"
      ],
      "text/plain": [
       "┏━━━━━━━━━━━━━━━━━━━━━━━━━━━━━━━━━┳━━━━━━━━━━━━━━━━━━━━━━━━┳━━━━━━━━━━━━━━━┓\n",
       "┃\u001b[1m \u001b[0m\u001b[1mLayer (type)                   \u001b[0m\u001b[1m \u001b[0m┃\u001b[1m \u001b[0m\u001b[1mOutput Shape          \u001b[0m\u001b[1m \u001b[0m┃\u001b[1m \u001b[0m\u001b[1m      Param #\u001b[0m\u001b[1m \u001b[0m┃\n",
       "┡━━━━━━━━━━━━━━━━━━━━━━━━━━━━━━━━━╇━━━━━━━━━━━━━━━━━━━━━━━━╇━━━━━━━━━━━━━━━┩\n",
       "│ conv1d_7 (\u001b[38;5;33mConv1D\u001b[0m)               │ (\u001b[38;5;45mNone\u001b[0m, \u001b[38;5;34m14\u001b[0m, \u001b[38;5;34m256\u001b[0m)        │         \u001b[38;5;34m4,864\u001b[0m │\n",
       "├─────────────────────────────────┼────────────────────────┼───────────────┤\n",
       "│ dense_14 (\u001b[38;5;33mDense\u001b[0m)                │ (\u001b[38;5;45mNone\u001b[0m, \u001b[38;5;34m14\u001b[0m, \u001b[38;5;34m16\u001b[0m)         │         \u001b[38;5;34m4,112\u001b[0m │\n",
       "├─────────────────────────────────┼────────────────────────┼───────────────┤\n",
       "│ max_pooling1d_7 (\u001b[38;5;33mMaxPooling1D\u001b[0m)  │ (\u001b[38;5;45mNone\u001b[0m, \u001b[38;5;34m7\u001b[0m, \u001b[38;5;34m16\u001b[0m)          │             \u001b[38;5;34m0\u001b[0m │\n",
       "├─────────────────────────────────┼────────────────────────┼───────────────┤\n",
       "│ flatten_7 (\u001b[38;5;33mFlatten\u001b[0m)             │ (\u001b[38;5;45mNone\u001b[0m, \u001b[38;5;34m112\u001b[0m)            │             \u001b[38;5;34m0\u001b[0m │\n",
       "├─────────────────────────────────┼────────────────────────┼───────────────┤\n",
       "│ dense_15 (\u001b[38;5;33mDense\u001b[0m)                │ (\u001b[38;5;45mNone\u001b[0m, \u001b[38;5;34m15\u001b[0m)             │         \u001b[38;5;34m1,695\u001b[0m │\n",
       "└─────────────────────────────────┴────────────────────────┴───────────────┘\n"
      ]
     },
     "metadata": {},
     "output_type": "display_data"
    },
    {
     "data": {
      "text/html": [
       "<pre style=\"white-space:pre;overflow-x:auto;line-height:normal;font-family:Menlo,'DejaVu Sans Mono',consolas,'Courier New',monospace\"><span style=\"font-weight: bold\"> Total params: </span><span style=\"color: #00af00; text-decoration-color: #00af00\">10,671</span> (41.68 KB)\n",
       "</pre>\n"
      ],
      "text/plain": [
       "\u001b[1m Total params: \u001b[0m\u001b[38;5;34m10,671\u001b[0m (41.68 KB)\n"
      ]
     },
     "metadata": {},
     "output_type": "display_data"
    },
    {
     "data": {
      "text/html": [
       "<pre style=\"white-space:pre;overflow-x:auto;line-height:normal;font-family:Menlo,'DejaVu Sans Mono',consolas,'Courier New',monospace\"><span style=\"font-weight: bold\"> Trainable params: </span><span style=\"color: #00af00; text-decoration-color: #00af00\">10,671</span> (41.68 KB)\n",
       "</pre>\n"
      ],
      "text/plain": [
       "\u001b[1m Trainable params: \u001b[0m\u001b[38;5;34m10,671\u001b[0m (41.68 KB)\n"
      ]
     },
     "metadata": {},
     "output_type": "display_data"
    },
    {
     "data": {
      "text/html": [
       "<pre style=\"white-space:pre;overflow-x:auto;line-height:normal;font-family:Menlo,'DejaVu Sans Mono',consolas,'Courier New',monospace\"><span style=\"font-weight: bold\"> Non-trainable params: </span><span style=\"color: #00af00; text-decoration-color: #00af00\">0</span> (0.00 B)\n",
       "</pre>\n"
      ],
      "text/plain": [
       "\u001b[1m Non-trainable params: \u001b[0m\u001b[38;5;34m0\u001b[0m (0.00 B)\n"
      ]
     },
     "metadata": {},
     "output_type": "display_data"
    }
   ],
   "source": [
    "model.summary()"
   ]
  },
  {
   "cell_type": "code",
   "execution_count": 202,
   "id": "14516ddb-e19b-470d-8d5c-82e945702c96",
   "metadata": {},
   "outputs": [],
   "source": [
    "model.compile(loss='categorical_crossentropy', optimizer='adam', metrics=['accuracy'])"
   ]
  },
  {
   "cell_type": "code",
   "execution_count": 204,
   "id": "1515ea42-8527-4651-a3e2-a84e795f4683",
   "metadata": {},
   "outputs": [
    {
     "name": "stdout",
     "output_type": "stream",
     "text": [
      "Epoch 1/12\n",
      "538/538 - 2s - 5ms/step - accuracy: 0.1302 - loss: 5375.4297\n",
      "Epoch 2/12\n",
      "538/538 - 1s - 2ms/step - accuracy: 0.1179 - loss: 56786.4414\n",
      "Epoch 3/12\n",
      "538/538 - 1s - 2ms/step - accuracy: 0.1201 - loss: 184703.7031\n",
      "Epoch 4/12\n",
      "538/538 - 1s - 2ms/step - accuracy: 0.1188 - loss: 400643.8750\n",
      "Epoch 5/12\n",
      "538/538 - 1s - 3ms/step - accuracy: 0.1195 - loss: 742940.8750\n",
      "Epoch 6/12\n",
      "538/538 - 1s - 2ms/step - accuracy: 0.1248 - loss: 1152820.2500\n",
      "Epoch 7/12\n",
      "538/538 - 1s - 2ms/step - accuracy: 0.1196 - loss: 1701139.2500\n",
      "Epoch 8/12\n",
      "538/538 - 1s - 2ms/step - accuracy: 0.1258 - loss: 2373463.2500\n",
      "Epoch 9/12\n",
      "538/538 - 1s - 2ms/step - accuracy: 0.1250 - loss: 3108797.2500\n",
      "Epoch 10/12\n",
      "538/538 - 1s - 2ms/step - accuracy: 0.1216 - loss: 4083777.7500\n",
      "Epoch 11/12\n",
      "538/538 - 1s - 2ms/step - accuracy: 0.1231 - loss: 5179535.5000\n",
      "Epoch 12/12\n",
      "538/538 - 1s - 2ms/step - accuracy: 0.1275 - loss: 6404762.0000\n"
     ]
    },
    {
     "data": {
      "text/plain": [
       "<keras.src.callbacks.history.History at 0x1f955fd9070>"
      ]
     },
     "execution_count": 204,
     "metadata": {},
     "output_type": "execute_result"
    }
   ],
   "source": [
    "model.fit(X_train, y_train, batch_size=batch_size, epochs=epochs, verbose=2)"
   ]
  },
  {
   "cell_type": "markdown",
   "id": "6b5c609f-6902-4237-ba19-2764dcbfc3a3",
   "metadata": {},
   "source": [
    "#### Try 2"
   ]
  },
  {
   "cell_type": "code",
   "execution_count": 207,
   "id": "dce0abb0-acac-482f-9a9f-178c94db295a",
   "metadata": {},
   "outputs": [
    {
     "name": "stderr",
     "output_type": "stream",
     "text": [
      "C:\\Users\\Nuria Miquel\\anaconda3\\Lib\\site-packages\\keras\\src\\layers\\convolutional\\base_conv.py:107: UserWarning: Do not pass an `input_shape`/`input_dim` argument to a layer. When using Sequential models, prefer using an `Input(shape)` object as the first layer in the model instead.\n",
      "  super().__init__(activity_regularizer=activity_regularizer, **kwargs)\n"
     ]
    }
   ],
   "source": [
    "epochs = 16\n",
    "batch_size = 12\n",
    "n_hidden = 120\n",
    "timesteps = X_train.shape[1] \n",
    "input_dim = X_train.shape[2]\n",
    "n_classes = y_train.shape[1]\n",
    "\n",
    "model = Sequential()\n",
    "model.add(Conv1D(n_hidden, kernel_size=2, activation='relu', input_shape=(timesteps, input_dim)))\n",
    "model.add(Dense(16, activation='relu'))\n",
    "model.add(MaxPooling1D())\n",
    "model.add(Flatten())\n",
    "model.add(Dense(n_classes, activation='softmax')) # Options: sigmoid, tanh, softmax, relu"
   ]
  },
  {
   "cell_type": "code",
   "execution_count": 209,
   "id": "9e5ed640-2bcb-428b-8cf4-8130ec4e2af1",
   "metadata": {},
   "outputs": [
    {
     "data": {
      "text/html": [
       "<pre style=\"white-space:pre;overflow-x:auto;line-height:normal;font-family:Menlo,'DejaVu Sans Mono',consolas,'Courier New',monospace\"><span style=\"font-weight: bold\">Model: \"sequential_10\"</span>\n",
       "</pre>\n"
      ],
      "text/plain": [
       "\u001b[1mModel: \"sequential_10\"\u001b[0m\n"
      ]
     },
     "metadata": {},
     "output_type": "display_data"
    },
    {
     "data": {
      "text/html": [
       "<pre style=\"white-space:pre;overflow-x:auto;line-height:normal;font-family:Menlo,'DejaVu Sans Mono',consolas,'Courier New',monospace\">┏━━━━━━━━━━━━━━━━━━━━━━━━━━━━━━━━━┳━━━━━━━━━━━━━━━━━━━━━━━━┳━━━━━━━━━━━━━━━┓\n",
       "┃<span style=\"font-weight: bold\"> Layer (type)                    </span>┃<span style=\"font-weight: bold\"> Output Shape           </span>┃<span style=\"font-weight: bold\">       Param # </span>┃\n",
       "┡━━━━━━━━━━━━━━━━━━━━━━━━━━━━━━━━━╇━━━━━━━━━━━━━━━━━━━━━━━━╇━━━━━━━━━━━━━━━┩\n",
       "│ conv1d_8 (<span style=\"color: #0087ff; text-decoration-color: #0087ff\">Conv1D</span>)               │ (<span style=\"color: #00d7ff; text-decoration-color: #00d7ff\">None</span>, <span style=\"color: #00af00; text-decoration-color: #00af00\">14</span>, <span style=\"color: #00af00; text-decoration-color: #00af00\">120</span>)        │         <span style=\"color: #00af00; text-decoration-color: #00af00\">2,280</span> │\n",
       "├─────────────────────────────────┼────────────────────────┼───────────────┤\n",
       "│ dense_16 (<span style=\"color: #0087ff; text-decoration-color: #0087ff\">Dense</span>)                │ (<span style=\"color: #00d7ff; text-decoration-color: #00d7ff\">None</span>, <span style=\"color: #00af00; text-decoration-color: #00af00\">14</span>, <span style=\"color: #00af00; text-decoration-color: #00af00\">16</span>)         │         <span style=\"color: #00af00; text-decoration-color: #00af00\">1,936</span> │\n",
       "├─────────────────────────────────┼────────────────────────┼───────────────┤\n",
       "│ max_pooling1d_8 (<span style=\"color: #0087ff; text-decoration-color: #0087ff\">MaxPooling1D</span>)  │ (<span style=\"color: #00d7ff; text-decoration-color: #00d7ff\">None</span>, <span style=\"color: #00af00; text-decoration-color: #00af00\">7</span>, <span style=\"color: #00af00; text-decoration-color: #00af00\">16</span>)          │             <span style=\"color: #00af00; text-decoration-color: #00af00\">0</span> │\n",
       "├─────────────────────────────────┼────────────────────────┼───────────────┤\n",
       "│ flatten_8 (<span style=\"color: #0087ff; text-decoration-color: #0087ff\">Flatten</span>)             │ (<span style=\"color: #00d7ff; text-decoration-color: #00d7ff\">None</span>, <span style=\"color: #00af00; text-decoration-color: #00af00\">112</span>)            │             <span style=\"color: #00af00; text-decoration-color: #00af00\">0</span> │\n",
       "├─────────────────────────────────┼────────────────────────┼───────────────┤\n",
       "│ dense_17 (<span style=\"color: #0087ff; text-decoration-color: #0087ff\">Dense</span>)                │ (<span style=\"color: #00d7ff; text-decoration-color: #00d7ff\">None</span>, <span style=\"color: #00af00; text-decoration-color: #00af00\">15</span>)             │         <span style=\"color: #00af00; text-decoration-color: #00af00\">1,695</span> │\n",
       "└─────────────────────────────────┴────────────────────────┴───────────────┘\n",
       "</pre>\n"
      ],
      "text/plain": [
       "┏━━━━━━━━━━━━━━━━━━━━━━━━━━━━━━━━━┳━━━━━━━━━━━━━━━━━━━━━━━━┳━━━━━━━━━━━━━━━┓\n",
       "┃\u001b[1m \u001b[0m\u001b[1mLayer (type)                   \u001b[0m\u001b[1m \u001b[0m┃\u001b[1m \u001b[0m\u001b[1mOutput Shape          \u001b[0m\u001b[1m \u001b[0m┃\u001b[1m \u001b[0m\u001b[1m      Param #\u001b[0m\u001b[1m \u001b[0m┃\n",
       "┡━━━━━━━━━━━━━━━━━━━━━━━━━━━━━━━━━╇━━━━━━━━━━━━━━━━━━━━━━━━╇━━━━━━━━━━━━━━━┩\n",
       "│ conv1d_8 (\u001b[38;5;33mConv1D\u001b[0m)               │ (\u001b[38;5;45mNone\u001b[0m, \u001b[38;5;34m14\u001b[0m, \u001b[38;5;34m120\u001b[0m)        │         \u001b[38;5;34m2,280\u001b[0m │\n",
       "├─────────────────────────────────┼────────────────────────┼───────────────┤\n",
       "│ dense_16 (\u001b[38;5;33mDense\u001b[0m)                │ (\u001b[38;5;45mNone\u001b[0m, \u001b[38;5;34m14\u001b[0m, \u001b[38;5;34m16\u001b[0m)         │         \u001b[38;5;34m1,936\u001b[0m │\n",
       "├─────────────────────────────────┼────────────────────────┼───────────────┤\n",
       "│ max_pooling1d_8 (\u001b[38;5;33mMaxPooling1D\u001b[0m)  │ (\u001b[38;5;45mNone\u001b[0m, \u001b[38;5;34m7\u001b[0m, \u001b[38;5;34m16\u001b[0m)          │             \u001b[38;5;34m0\u001b[0m │\n",
       "├─────────────────────────────────┼────────────────────────┼───────────────┤\n",
       "│ flatten_8 (\u001b[38;5;33mFlatten\u001b[0m)             │ (\u001b[38;5;45mNone\u001b[0m, \u001b[38;5;34m112\u001b[0m)            │             \u001b[38;5;34m0\u001b[0m │\n",
       "├─────────────────────────────────┼────────────────────────┼───────────────┤\n",
       "│ dense_17 (\u001b[38;5;33mDense\u001b[0m)                │ (\u001b[38;5;45mNone\u001b[0m, \u001b[38;5;34m15\u001b[0m)             │         \u001b[38;5;34m1,695\u001b[0m │\n",
       "└─────────────────────────────────┴────────────────────────┴───────────────┘\n"
      ]
     },
     "metadata": {},
     "output_type": "display_data"
    },
    {
     "data": {
      "text/html": [
       "<pre style=\"white-space:pre;overflow-x:auto;line-height:normal;font-family:Menlo,'DejaVu Sans Mono',consolas,'Courier New',monospace\"><span style=\"font-weight: bold\"> Total params: </span><span style=\"color: #00af00; text-decoration-color: #00af00\">5,911</span> (23.09 KB)\n",
       "</pre>\n"
      ],
      "text/plain": [
       "\u001b[1m Total params: \u001b[0m\u001b[38;5;34m5,911\u001b[0m (23.09 KB)\n"
      ]
     },
     "metadata": {},
     "output_type": "display_data"
    },
    {
     "data": {
      "text/html": [
       "<pre style=\"white-space:pre;overflow-x:auto;line-height:normal;font-family:Menlo,'DejaVu Sans Mono',consolas,'Courier New',monospace\"><span style=\"font-weight: bold\"> Trainable params: </span><span style=\"color: #00af00; text-decoration-color: #00af00\">5,911</span> (23.09 KB)\n",
       "</pre>\n"
      ],
      "text/plain": [
       "\u001b[1m Trainable params: \u001b[0m\u001b[38;5;34m5,911\u001b[0m (23.09 KB)\n"
      ]
     },
     "metadata": {},
     "output_type": "display_data"
    },
    {
     "data": {
      "text/html": [
       "<pre style=\"white-space:pre;overflow-x:auto;line-height:normal;font-family:Menlo,'DejaVu Sans Mono',consolas,'Courier New',monospace\"><span style=\"font-weight: bold\"> Non-trainable params: </span><span style=\"color: #00af00; text-decoration-color: #00af00\">0</span> (0.00 B)\n",
       "</pre>\n"
      ],
      "text/plain": [
       "\u001b[1m Non-trainable params: \u001b[0m\u001b[38;5;34m0\u001b[0m (0.00 B)\n"
      ]
     },
     "metadata": {},
     "output_type": "display_data"
    }
   ],
   "source": [
    "model.summary()"
   ]
  },
  {
   "cell_type": "code",
   "execution_count": 211,
   "id": "7e8c4e9e-05a9-4020-b4b9-9e20f9a64fcd",
   "metadata": {},
   "outputs": [],
   "source": [
    "model.compile(loss='categorical_crossentropy', optimizer='adam', metrics=['accuracy'])"
   ]
  },
  {
   "cell_type": "code",
   "execution_count": 213,
   "id": "13a2f5a8-86a2-4751-981b-aef2ba9d3e81",
   "metadata": {},
   "outputs": [
    {
     "name": "stdout",
     "output_type": "stream",
     "text": [
      "Epoch 1/16\n",
      "1435/1435 - 3s - 2ms/step - accuracy: 0.1042 - loss: 41085.8672\n",
      "Epoch 2/16\n",
      "1435/1435 - 3s - 2ms/step - accuracy: 0.1156 - loss: 474297.5312\n",
      "Epoch 3/16\n",
      "1435/1435 - 2s - 2ms/step - accuracy: 0.1227 - loss: 1542147.8750\n",
      "Epoch 4/16\n",
      "1435/1435 - 2s - 1ms/step - accuracy: 0.1211 - loss: 3343080.0000\n",
      "Epoch 5/16\n",
      "1435/1435 - 3s - 2ms/step - accuracy: 0.1239 - loss: 5980917.0000\n",
      "Epoch 6/16\n",
      "1435/1435 - 3s - 2ms/step - accuracy: 0.1260 - loss: 9549740.0000\n",
      "Epoch 7/16\n",
      "1435/1435 - 2s - 2ms/step - accuracy: 0.1260 - loss: 14166143.0000\n",
      "Epoch 8/16\n",
      "1435/1435 - 2s - 1ms/step - accuracy: 0.1271 - loss: 19728270.0000\n",
      "Epoch 9/16\n",
      "1435/1435 - 2s - 2ms/step - accuracy: 0.1251 - loss: 26930220.0000\n",
      "Epoch 10/16\n",
      "1435/1435 - 2s - 1ms/step - accuracy: 0.1196 - loss: 35530988.0000\n",
      "Epoch 11/16\n",
      "1435/1435 - 2s - 2ms/step - accuracy: 0.1230 - loss: 45351028.0000\n",
      "Epoch 12/16\n",
      "1435/1435 - 3s - 2ms/step - accuracy: 0.1241 - loss: 56538432.0000\n",
      "Epoch 13/16\n",
      "1435/1435 - 2s - 2ms/step - accuracy: 0.1287 - loss: 69959456.0000\n",
      "Epoch 14/16\n",
      "1435/1435 - 2s - 2ms/step - accuracy: 0.1268 - loss: 85156408.0000\n",
      "Epoch 15/16\n",
      "1435/1435 - 2s - 2ms/step - accuracy: 0.1219 - loss: 101752096.0000\n",
      "Epoch 16/16\n",
      "1435/1435 - 2s - 2ms/step - accuracy: 0.1264 - loss: 120339184.0000\n"
     ]
    },
    {
     "data": {
      "text/plain": [
       "<keras.src.callbacks.history.History at 0x1f95565e5d0>"
      ]
     },
     "execution_count": 213,
     "metadata": {},
     "output_type": "execute_result"
    }
   ],
   "source": [
    "model.fit(X_train, y_train, batch_size=batch_size, epochs=epochs, verbose=2)"
   ]
  },
  {
   "cell_type": "markdown",
   "id": "e020d7f8-0fb4-4575-89fe-8fa6659bdf0a",
   "metadata": {
    "jp-MarkdownHeadingCollapsed": true
   },
   "source": [
    "### 6. Confusion Matrix"
   ]
  },
  {
   "cell_type": "code",
   "execution_count": 216,
   "id": "23e3b8bb-2051-49ad-bee7-d249055dec16",
   "metadata": {},
   "outputs": [],
   "source": [
    "stations = {\n",
    "0: 'BASEL',\n",
    "1: 'BELGRADE',\n",
    "2: 'BUDAPEST',\n",
    "3: 'DEBILT',\n",
    "4: 'DUSSELDORF',\n",
    "5: 'HEATHROW',\n",
    "6: 'KASSEL',\n",
    "7: 'LJUBLJANA',\n",
    "8: 'MAASTRICHT',\n",
    "9: 'MADRID',\n",
    "10: 'MUNCHENB',\n",
    "11: 'OSLO',\n",
    "12: 'SONNBLICK',\n",
    "13: 'STOCKHOLM',\n",
    "14: 'VALENTIA' }"
   ]
  },
  {
   "cell_type": "code",
   "execution_count": 222,
   "id": "d24f2396-9dc7-4c67-8080-92ed2256aeb5",
   "metadata": {},
   "outputs": [],
   "source": [
    "def confusion_matrix(y_true, y_pred):\n",
    "    y_true = pd.Series([stations[y] for y in np.argmax(y_true, axis=1)])\n",
    "    y_pred = pd.Series([stations[y] for y in np.argmax(y_pred, axis=1)])\n",
    "\n",
    "    return pd.crosstab(y_true, y_pred, rownames=['True'], colnames=['Pred'])"
   ]
  },
  {
   "cell_type": "code",
   "execution_count": 224,
   "id": "2b0c970a-fcfa-4610-85d6-c07cfbf352b7",
   "metadata": {},
   "outputs": [
    {
     "name": "stdout",
     "output_type": "stream",
     "text": [
      "\u001b[1m180/180\u001b[0m \u001b[32m━━━━━━━━━━━━━━━━━━━━\u001b[0m\u001b[37m\u001b[0m \u001b[1m0s\u001b[0m 1ms/step\n",
      "Pred        BASEL  BELGRADE  BUDAPEST  DEBILT  DUSSELDORF  HEATHROW  KASSEL  \\\n",
      "True                                                                          \n",
      "BASEL         872      1759         2      20          40         9     212   \n",
      "BELGRADE      100       941         0       0           0         0       5   \n",
      "BUDAPEST       38       165         0       0           0         0       0   \n",
      "DEBILT         27        49         0       0           0         0       0   \n",
      "DUSSELDORF     15        14         0       0           0         0       0   \n",
      "HEATHROW       47        24         0       0           0         0       3   \n",
      "KASSEL          1         8         0       0           0         0       1   \n",
      "LJUBLJANA      11        44         0       0           0         0       0   \n",
      "MAASTRICHT      2         6         0       0           0         0       0   \n",
      "MADRID        117       176         0       1           0         0      13   \n",
      "MUNCHENB        0         6         0       0           0         0       0   \n",
      "OSLO            0         3         0       0           0         0       0   \n",
      "STOCKHOLM       1         3         0       0           0         0       0   \n",
      "VALENTIA        0         0         0       0           0         0       1   \n",
      "\n",
      "Pred        LJUBLJANA  MAASTRICHT  MADRID  MUNCHENB  SONNBLICK  STOCKHOLM  \\\n",
      "True                                                                        \n",
      "BASEL             191          54     246        12          4        233   \n",
      "BELGRADE            0           0      18         0          0         28   \n",
      "BUDAPEST            0           0       4         0          0          7   \n",
      "DEBILT              0           0       0         0          0          6   \n",
      "DUSSELDORF          0           0       0         0          0          0   \n",
      "HEATHROW            0           0       5         0          0          3   \n",
      "KASSEL              0           0       0         0          0          1   \n",
      "LJUBLJANA           0           0       5         0          0          1   \n",
      "MAASTRICHT          1           0       0         0          0          0   \n",
      "MADRID              5           1     110         0          0         35   \n",
      "MUNCHENB            1           0       0         0          0          1   \n",
      "OSLO                0           0       0         0          0          2   \n",
      "STOCKHOLM           0           0       0         0          0          0   \n",
      "VALENTIA            0           0       0         0          0          0   \n",
      "\n",
      "Pred        VALENTIA  \n",
      "True                  \n",
      "BASEL             28  \n",
      "BELGRADE           0  \n",
      "BUDAPEST           0  \n",
      "DEBILT             0  \n",
      "DUSSELDORF         0  \n",
      "HEATHROW           0  \n",
      "KASSEL             0  \n",
      "LJUBLJANA          0  \n",
      "MAASTRICHT         0  \n",
      "MADRID             0  \n",
      "MUNCHENB           0  \n",
      "OSLO               0  \n",
      "STOCKHOLM          0  \n",
      "VALENTIA           0  \n"
     ]
    }
   ],
   "source": [
    "print(confusion_matrix(y_test, model.predict(X_test)))"
   ]
  },
  {
   "cell_type": "code",
   "execution_count": null,
   "id": "d05c616f-636d-4d49-b58a-ce5ff42e55f9",
   "metadata": {},
   "outputs": [],
   "source": []
  }
 ],
 "metadata": {
  "kernelspec": {
   "display_name": "Python 3 (ipykernel)",
   "language": "python",
   "name": "python3"
  },
  "language_info": {
   "codemirror_mode": {
    "name": "ipython",
    "version": 3
   },
   "file_extension": ".py",
   "mimetype": "text/x-python",
   "name": "python",
   "nbconvert_exporter": "python",
   "pygments_lexer": "ipython3",
   "version": "3.12.4"
  }
 },
 "nbformat": 4,
 "nbformat_minor": 5
}
